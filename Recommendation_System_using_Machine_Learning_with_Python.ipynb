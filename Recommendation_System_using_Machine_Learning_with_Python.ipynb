{
  "nbformat": 4,
  "nbformat_minor": 0,
  "metadata": {
    "colab": {
      "provenance": []
    },
    "kernelspec": {
      "name": "python3",
      "display_name": "Python 3"
    },
    "language_info": {
      "name": "python"
    }
  },
  "cells": [
    {
      "cell_type": "markdown",
      "metadata": {
        "id": "R1oRN_iiHN_7"
      },
      "source": [
        "Importing the dependencies"
      ]
    },
    {
      "cell_type": "code",
      "metadata": {
        "id": "GAGi6hrzFLOb"
      },
      "source": [
        "import numpy as np\n",
        "import pandas as pd\n",
        "import difflib\n",
        "from sklearn.feature_extraction.text import TfidfVectorizer\n",
        "from sklearn.metrics.pairwise import cosine_similarity"
      ],
      "execution_count": 52,
      "outputs": []
    },
    {
      "cell_type": "markdown",
      "metadata": {
        "id": "mfIW1BYVIGfP"
      },
      "source": [
        "Data Collection and Pre-Processing"
      ]
    },
    {
      "cell_type": "code",
      "metadata": {
        "id": "MOXn7CGdIGBU"
      },
      "source": [
        "# loading the data from the csv file to apandas dataframe\n",
        "data = pd.read_csv('/content/Properties.csv')"
      ],
      "execution_count": 53,
      "outputs": []
    },
    {
      "cell_type": "code",
      "metadata": {
        "colab": {
          "base_uri": "https://localhost:8080/",
          "height": 206
        },
        "id": "cha03lDAIa6l",
        "outputId": "74a013d4-4312-4a5b-aa57-57eefb15c908"
      },
      "source": [
        "# printing the first 5 rows of the dataframe\n",
        "data.head()"
      ],
      "execution_count": 54,
      "outputs": [
        {
          "output_type": "execute_result",
          "data": {
            "text/plain": [
              "   Index                    Property Address     Insight 1  \\\n",
              "0      1          2483 Olson Via St, Houston       Budgets   \n",
              "1      2       8389 Chad Village St, Houston  Energy Usage   \n",
              "2      3         3427 James Shoal St, Boston  Energy Usage   \n",
              "3      4    9659 Angela Estates St, New York  Energy Usage   \n",
              "4      5  6752 Cameron Extension St, Atlanta       Budgets   \n",
              "\n",
              "                           Insight 2                               Driver  \\\n",
              "0  Janitorial Expenses 10% Over Mean          Energy Costs above 15% mean   \n",
              "1                          Off-Hours  High energy usage during peak hours   \n",
              "2                          Off-Hours  High energy usage during peak hours   \n",
              "3                  Energy Efficiency  High energy usage during peak hours   \n",
              "4                  Budget Compliance     Janitorial Budget above 20% mean   \n",
              "\n",
              "            Account Criticality           Roles  \n",
              "0      Bank of ACME        High   Asset Manager  \n",
              "1  Quantum Dynamics    Critical  Chief Engineer  \n",
              "2  StreamView Media         Low  Chief Engineer  \n",
              "3        NexaRetail         Low  Chief Engineer  \n",
              "4     GreenLeaf Co.    Critical   Asset Manager  "
            ],
            "text/html": [
              "\n",
              "  <div id=\"df-31bfe94e-28f7-4a12-be51-2cb3c463c26f\" class=\"colab-df-container\">\n",
              "    <div>\n",
              "<style scoped>\n",
              "    .dataframe tbody tr th:only-of-type {\n",
              "        vertical-align: middle;\n",
              "    }\n",
              "\n",
              "    .dataframe tbody tr th {\n",
              "        vertical-align: top;\n",
              "    }\n",
              "\n",
              "    .dataframe thead th {\n",
              "        text-align: right;\n",
              "    }\n",
              "</style>\n",
              "<table border=\"1\" class=\"dataframe\">\n",
              "  <thead>\n",
              "    <tr style=\"text-align: right;\">\n",
              "      <th></th>\n",
              "      <th>Index</th>\n",
              "      <th>Property Address</th>\n",
              "      <th>Insight 1</th>\n",
              "      <th>Insight 2</th>\n",
              "      <th>Driver</th>\n",
              "      <th>Account</th>\n",
              "      <th>Criticality</th>\n",
              "      <th>Roles</th>\n",
              "    </tr>\n",
              "  </thead>\n",
              "  <tbody>\n",
              "    <tr>\n",
              "      <th>0</th>\n",
              "      <td>1</td>\n",
              "      <td>2483 Olson Via St, Houston</td>\n",
              "      <td>Budgets</td>\n",
              "      <td>Janitorial Expenses 10% Over Mean</td>\n",
              "      <td>Energy Costs above 15% mean</td>\n",
              "      <td>Bank of ACME</td>\n",
              "      <td>High</td>\n",
              "      <td>Asset Manager</td>\n",
              "    </tr>\n",
              "    <tr>\n",
              "      <th>1</th>\n",
              "      <td>2</td>\n",
              "      <td>8389 Chad Village St, Houston</td>\n",
              "      <td>Energy Usage</td>\n",
              "      <td>Off-Hours</td>\n",
              "      <td>High energy usage during peak hours</td>\n",
              "      <td>Quantum Dynamics</td>\n",
              "      <td>Critical</td>\n",
              "      <td>Chief Engineer</td>\n",
              "    </tr>\n",
              "    <tr>\n",
              "      <th>2</th>\n",
              "      <td>3</td>\n",
              "      <td>3427 James Shoal St, Boston</td>\n",
              "      <td>Energy Usage</td>\n",
              "      <td>Off-Hours</td>\n",
              "      <td>High energy usage during peak hours</td>\n",
              "      <td>StreamView Media</td>\n",
              "      <td>Low</td>\n",
              "      <td>Chief Engineer</td>\n",
              "    </tr>\n",
              "    <tr>\n",
              "      <th>3</th>\n",
              "      <td>4</td>\n",
              "      <td>9659 Angela Estates St, New York</td>\n",
              "      <td>Energy Usage</td>\n",
              "      <td>Energy Efficiency</td>\n",
              "      <td>High energy usage during peak hours</td>\n",
              "      <td>NexaRetail</td>\n",
              "      <td>Low</td>\n",
              "      <td>Chief Engineer</td>\n",
              "    </tr>\n",
              "    <tr>\n",
              "      <th>4</th>\n",
              "      <td>5</td>\n",
              "      <td>6752 Cameron Extension St, Atlanta</td>\n",
              "      <td>Budgets</td>\n",
              "      <td>Budget Compliance</td>\n",
              "      <td>Janitorial Budget above 20% mean</td>\n",
              "      <td>GreenLeaf Co.</td>\n",
              "      <td>Critical</td>\n",
              "      <td>Asset Manager</td>\n",
              "    </tr>\n",
              "  </tbody>\n",
              "</table>\n",
              "</div>\n",
              "    <div class=\"colab-df-buttons\">\n",
              "\n",
              "  <div class=\"colab-df-container\">\n",
              "    <button class=\"colab-df-convert\" onclick=\"convertToInteractive('df-31bfe94e-28f7-4a12-be51-2cb3c463c26f')\"\n",
              "            title=\"Convert this dataframe to an interactive table.\"\n",
              "            style=\"display:none;\">\n",
              "\n",
              "  <svg xmlns=\"http://www.w3.org/2000/svg\" height=\"24px\" viewBox=\"0 -960 960 960\">\n",
              "    <path d=\"M120-120v-720h720v720H120Zm60-500h600v-160H180v160Zm220 220h160v-160H400v160Zm0 220h160v-160H400v160ZM180-400h160v-160H180v160Zm440 0h160v-160H620v160ZM180-180h160v-160H180v160Zm440 0h160v-160H620v160Z\"/>\n",
              "  </svg>\n",
              "    </button>\n",
              "\n",
              "  <style>\n",
              "    .colab-df-container {\n",
              "      display:flex;\n",
              "      gap: 12px;\n",
              "    }\n",
              "\n",
              "    .colab-df-convert {\n",
              "      background-color: #E8F0FE;\n",
              "      border: none;\n",
              "      border-radius: 50%;\n",
              "      cursor: pointer;\n",
              "      display: none;\n",
              "      fill: #1967D2;\n",
              "      height: 32px;\n",
              "      padding: 0 0 0 0;\n",
              "      width: 32px;\n",
              "    }\n",
              "\n",
              "    .colab-df-convert:hover {\n",
              "      background-color: #E2EBFA;\n",
              "      box-shadow: 0px 1px 2px rgba(60, 64, 67, 0.3), 0px 1px 3px 1px rgba(60, 64, 67, 0.15);\n",
              "      fill: #174EA6;\n",
              "    }\n",
              "\n",
              "    .colab-df-buttons div {\n",
              "      margin-bottom: 4px;\n",
              "    }\n",
              "\n",
              "    [theme=dark] .colab-df-convert {\n",
              "      background-color: #3B4455;\n",
              "      fill: #D2E3FC;\n",
              "    }\n",
              "\n",
              "    [theme=dark] .colab-df-convert:hover {\n",
              "      background-color: #434B5C;\n",
              "      box-shadow: 0px 1px 3px 1px rgba(0, 0, 0, 0.15);\n",
              "      filter: drop-shadow(0px 1px 2px rgba(0, 0, 0, 0.3));\n",
              "      fill: #FFFFFF;\n",
              "    }\n",
              "  </style>\n",
              "\n",
              "    <script>\n",
              "      const buttonEl =\n",
              "        document.querySelector('#df-31bfe94e-28f7-4a12-be51-2cb3c463c26f button.colab-df-convert');\n",
              "      buttonEl.style.display =\n",
              "        google.colab.kernel.accessAllowed ? 'block' : 'none';\n",
              "\n",
              "      async function convertToInteractive(key) {\n",
              "        const element = document.querySelector('#df-31bfe94e-28f7-4a12-be51-2cb3c463c26f');\n",
              "        const dataTable =\n",
              "          await google.colab.kernel.invokeFunction('convertToInteractive',\n",
              "                                                    [key], {});\n",
              "        if (!dataTable) return;\n",
              "\n",
              "        const docLinkHtml = 'Like what you see? Visit the ' +\n",
              "          '<a target=\"_blank\" href=https://colab.research.google.com/notebooks/data_table.ipynb>data table notebook</a>'\n",
              "          + ' to learn more about interactive tables.';\n",
              "        element.innerHTML = '';\n",
              "        dataTable['output_type'] = 'display_data';\n",
              "        await google.colab.output.renderOutput(dataTable, element);\n",
              "        const docLink = document.createElement('div');\n",
              "        docLink.innerHTML = docLinkHtml;\n",
              "        element.appendChild(docLink);\n",
              "      }\n",
              "    </script>\n",
              "  </div>\n",
              "\n",
              "\n",
              "<div id=\"df-42560672-037b-4c07-b5bf-d2203b77ccd7\">\n",
              "  <button class=\"colab-df-quickchart\" onclick=\"quickchart('df-42560672-037b-4c07-b5bf-d2203b77ccd7')\"\n",
              "            title=\"Suggest charts.\"\n",
              "            style=\"display:none;\">\n",
              "\n",
              "<svg xmlns=\"http://www.w3.org/2000/svg\" height=\"24px\"viewBox=\"0 0 24 24\"\n",
              "     width=\"24px\">\n",
              "    <g>\n",
              "        <path d=\"M19 3H5c-1.1 0-2 .9-2 2v14c0 1.1.9 2 2 2h14c1.1 0 2-.9 2-2V5c0-1.1-.9-2-2-2zM9 17H7v-7h2v7zm4 0h-2V7h2v10zm4 0h-2v-4h2v4z\"/>\n",
              "    </g>\n",
              "</svg>\n",
              "  </button>\n",
              "\n",
              "<style>\n",
              "  .colab-df-quickchart {\n",
              "      --bg-color: #E8F0FE;\n",
              "      --fill-color: #1967D2;\n",
              "      --hover-bg-color: #E2EBFA;\n",
              "      --hover-fill-color: #174EA6;\n",
              "      --disabled-fill-color: #AAA;\n",
              "      --disabled-bg-color: #DDD;\n",
              "  }\n",
              "\n",
              "  [theme=dark] .colab-df-quickchart {\n",
              "      --bg-color: #3B4455;\n",
              "      --fill-color: #D2E3FC;\n",
              "      --hover-bg-color: #434B5C;\n",
              "      --hover-fill-color: #FFFFFF;\n",
              "      --disabled-bg-color: #3B4455;\n",
              "      --disabled-fill-color: #666;\n",
              "  }\n",
              "\n",
              "  .colab-df-quickchart {\n",
              "    background-color: var(--bg-color);\n",
              "    border: none;\n",
              "    border-radius: 50%;\n",
              "    cursor: pointer;\n",
              "    display: none;\n",
              "    fill: var(--fill-color);\n",
              "    height: 32px;\n",
              "    padding: 0;\n",
              "    width: 32px;\n",
              "  }\n",
              "\n",
              "  .colab-df-quickchart:hover {\n",
              "    background-color: var(--hover-bg-color);\n",
              "    box-shadow: 0 1px 2px rgba(60, 64, 67, 0.3), 0 1px 3px 1px rgba(60, 64, 67, 0.15);\n",
              "    fill: var(--button-hover-fill-color);\n",
              "  }\n",
              "\n",
              "  .colab-df-quickchart-complete:disabled,\n",
              "  .colab-df-quickchart-complete:disabled:hover {\n",
              "    background-color: var(--disabled-bg-color);\n",
              "    fill: var(--disabled-fill-color);\n",
              "    box-shadow: none;\n",
              "  }\n",
              "\n",
              "  .colab-df-spinner {\n",
              "    border: 2px solid var(--fill-color);\n",
              "    border-color: transparent;\n",
              "    border-bottom-color: var(--fill-color);\n",
              "    animation:\n",
              "      spin 1s steps(1) infinite;\n",
              "  }\n",
              "\n",
              "  @keyframes spin {\n",
              "    0% {\n",
              "      border-color: transparent;\n",
              "      border-bottom-color: var(--fill-color);\n",
              "      border-left-color: var(--fill-color);\n",
              "    }\n",
              "    20% {\n",
              "      border-color: transparent;\n",
              "      border-left-color: var(--fill-color);\n",
              "      border-top-color: var(--fill-color);\n",
              "    }\n",
              "    30% {\n",
              "      border-color: transparent;\n",
              "      border-left-color: var(--fill-color);\n",
              "      border-top-color: var(--fill-color);\n",
              "      border-right-color: var(--fill-color);\n",
              "    }\n",
              "    40% {\n",
              "      border-color: transparent;\n",
              "      border-right-color: var(--fill-color);\n",
              "      border-top-color: var(--fill-color);\n",
              "    }\n",
              "    60% {\n",
              "      border-color: transparent;\n",
              "      border-right-color: var(--fill-color);\n",
              "    }\n",
              "    80% {\n",
              "      border-color: transparent;\n",
              "      border-right-color: var(--fill-color);\n",
              "      border-bottom-color: var(--fill-color);\n",
              "    }\n",
              "    90% {\n",
              "      border-color: transparent;\n",
              "      border-bottom-color: var(--fill-color);\n",
              "    }\n",
              "  }\n",
              "</style>\n",
              "\n",
              "  <script>\n",
              "    async function quickchart(key) {\n",
              "      const quickchartButtonEl =\n",
              "        document.querySelector('#' + key + ' button');\n",
              "      quickchartButtonEl.disabled = true;  // To prevent multiple clicks.\n",
              "      quickchartButtonEl.classList.add('colab-df-spinner');\n",
              "      try {\n",
              "        const charts = await google.colab.kernel.invokeFunction(\n",
              "            'suggestCharts', [key], {});\n",
              "      } catch (error) {\n",
              "        console.error('Error during call to suggestCharts:', error);\n",
              "      }\n",
              "      quickchartButtonEl.classList.remove('colab-df-spinner');\n",
              "      quickchartButtonEl.classList.add('colab-df-quickchart-complete');\n",
              "    }\n",
              "    (() => {\n",
              "      let quickchartButtonEl =\n",
              "        document.querySelector('#df-42560672-037b-4c07-b5bf-d2203b77ccd7 button');\n",
              "      quickchartButtonEl.style.display =\n",
              "        google.colab.kernel.accessAllowed ? 'block' : 'none';\n",
              "    })();\n",
              "  </script>\n",
              "</div>\n",
              "    </div>\n",
              "  </div>\n"
            ]
          },
          "metadata": {},
          "execution_count": 54
        }
      ]
    },
    {
      "cell_type": "code",
      "metadata": {
        "colab": {
          "base_uri": "https://localhost:8080/"
        },
        "id": "Qrtr0oQbIjwF",
        "outputId": "0859fe48-32c6-44fa-f897-a5e88f01b78d"
      },
      "source": [
        "# number of rows and columns in the data frame\n",
        "data.shape"
      ],
      "execution_count": 55,
      "outputs": [
        {
          "output_type": "execute_result",
          "data": {
            "text/plain": [
              "(1300, 8)"
            ]
          },
          "metadata": {},
          "execution_count": 55
        }
      ]
    },
    {
      "cell_type": "code",
      "metadata": {
        "colab": {
          "base_uri": "https://localhost:8080/"
        },
        "id": "hunvyruUJhVq",
        "outputId": "3abd6fbd-d4c6-4d4e-90ea-4fa700dfcb23"
      },
      "source": [
        "# selecting the relevant features for recommendation\n",
        "\n",
        "selected_features = ['Insight 1', 'Insight 2', 'Driver']\n",
        "print(selected_features)"
      ],
      "execution_count": 56,
      "outputs": [
        {
          "output_type": "stream",
          "name": "stdout",
          "text": [
            "['Insight 1', 'Insight 2', 'Driver']\n"
          ]
        }
      ]
    },
    {
      "cell_type": "code",
      "metadata": {
        "id": "CKIVE6OWKSYk"
      },
      "source": [
        "# replacing the null valuess with null string\n",
        "\n",
        "for feature in selected_features:\n",
        "  data[feature] = data[feature].fillna('')"
      ],
      "execution_count": 57,
      "outputs": []
    },
    {
      "cell_type": "code",
      "metadata": {
        "id": "-AMjrRItLCO1"
      },
      "source": [
        "# combining all the selected features\n",
        "\n",
        "combined_features = data['Insight 1']+\" \"+data['Insight 2']+\" \"+data['Driver']"
      ],
      "execution_count": 58,
      "outputs": []
    },
    {
      "cell_type": "code",
      "metadata": {
        "colab": {
          "base_uri": "https://localhost:8080/"
        },
        "id": "ZYjFXx3aLwTh",
        "outputId": "f092e2f0-edf6-49fe-a80f-8d090e1150ab"
      },
      "source": [
        "print(combined_features)"
      ],
      "execution_count": 59,
      "outputs": [
        {
          "output_type": "stream",
          "name": "stdout",
          "text": [
            "0       Budgets Janitorial Expenses 10% Over Mean Ener...\n",
            "1       Energy Usage Off-Hours High energy usage durin...\n",
            "2       Energy Usage Off-Hours High energy usage durin...\n",
            "3       Energy Usage Energy Efficiency High energy usa...\n",
            "4       Budgets Budget Compliance Janitorial Budget ab...\n",
            "                              ...                        \n",
            "1295    Work Orders Completion Rate Completion Rates b...\n",
            "1296    Work Orders Preventative High number of reacti...\n",
            "1297    Budgets Energy Cost Variance Janitorial Budget...\n",
            "1298         Energy Usage Off-Hours Low energy efficiency\n",
            "1299    Accessibility ADA Compliance Non-ADA compliant...\n",
            "Length: 1300, dtype: object\n"
          ]
        }
      ]
    },
    {
      "cell_type": "code",
      "metadata": {
        "id": "BfuttC_gLyfF"
      },
      "source": [
        "# converting the text data to feature vectors\n",
        "\n",
        "vectorizer = TfidfVectorizer()"
      ],
      "execution_count": 60,
      "outputs": []
    },
    {
      "cell_type": "code",
      "metadata": {
        "id": "Leo5rQskMKxL"
      },
      "source": [
        "feature_vectors = vectorizer.fit_transform(combined_features)"
      ],
      "execution_count": 61,
      "outputs": []
    },
    {
      "cell_type": "code",
      "metadata": {
        "colab": {
          "base_uri": "https://localhost:8080/"
        },
        "id": "qNbeeMSnMb2F",
        "outputId": "153114c0-ac34-4172-b7c0-0471a14ea334"
      },
      "source": [
        "print(feature_vectors)"
      ],
      "execution_count": 62,
      "outputs": [
        {
          "output_type": "stream",
          "name": "stdout",
          "text": [
            "  (0, 1)\t0.302329894295011\n",
            "  (0, 4)\t0.24109484785845453\n",
            "  (0, 20)\t0.302329894295011\n",
            "  (0, 26)\t0.19292761507093373\n",
            "  (0, 46)\t0.48218969571690906\n",
            "  (0, 57)\t0.34383349113234274\n",
            "  (0, 0)\t0.34383349113234274\n",
            "  (0, 27)\t0.34383349113234274\n",
            "  (0, 39)\t0.2766720848189496\n",
            "  (0, 13)\t0.24109484785845453\n",
            "  (1, 58)\t0.28429306690738443\n",
            "  (1, 22)\t0.30489207969578264\n",
            "  (1, 35)\t0.21055718350254776\n",
            "  (1, 36)\t0.51964587374194\n",
            "  (1, 55)\t0.33914595716593493\n",
            "  (1, 77)\t0.4895230538617489\n",
            "  (1, 26)\t0.39648368150718805\n",
            "  (2, 58)\t0.28429306690738443\n",
            "  (2, 22)\t0.30489207969578264\n",
            "  (2, 35)\t0.21055718350254776\n",
            "  (2, 36)\t0.51964587374194\n",
            "  (2, 55)\t0.33914595716593493\n",
            "  (2, 77)\t0.4895230538617489\n",
            "  (2, 26)\t0.39648368150718805\n",
            "  (3, 23)\t0.2901889772498553\n",
            "  :\t:\n",
            "  (1296, 59)\t0.37932048567315546\n",
            "  (1296, 56)\t0.5353049538241155\n",
            "  (1296, 79)\t0.5353049538241155\n",
            "  (1296, 35)\t0.22223943949336775\n",
            "  (1297, 78)\t0.4068328845283629\n",
            "  (1297, 19)\t0.4068328845283629\n",
            "  (1297, 2)\t0.36739947281736207\n",
            "  (1297, 12)\t0.3384948799478783\n",
            "  (1297, 4)\t0.29087103508834317\n",
            "  (1297, 26)\t0.23275924637657108\n",
            "  (1297, 46)\t0.29087103508834317\n",
            "  (1297, 39)\t0.3337935107538454\n",
            "  (1297, 13)\t0.29087103508834317\n",
            "  (1298, 43)\t0.3388516978802338\n",
            "  (1298, 23)\t0.3858817449566616\n",
            "  (1298, 36)\t0.3526675108549057\n",
            "  (1298, 55)\t0.4603356500031091\n",
            "  (1298, 77)\t0.3322240888171637\n",
            "  (1298, 26)\t0.5381623144425017\n",
            "  (1299, 9)\t0.39241291810753626\n",
            "  (1299, 18)\t0.39241291810753626\n",
            "  (1299, 7)\t0.7176860875279317\n",
            "  (1299, 6)\t0.3230855070983634\n",
            "  (1299, 51)\t0.21163605903967142\n",
            "  (1299, 17)\t0.16666378368036583\n"
          ]
        }
      ]
    },
    {
      "cell_type": "markdown",
      "metadata": {
        "id": "qEGga5yPMnXO"
      },
      "source": [
        "Cosine Similarity"
      ]
    },
    {
      "cell_type": "code",
      "metadata": {
        "id": "MsKYCs31MeB6"
      },
      "source": [
        "# getting the similarity scores using cosine similarity\n",
        "\n",
        "similarity = cosine_similarity(feature_vectors)"
      ],
      "execution_count": 63,
      "outputs": []
    },
    {
      "cell_type": "code",
      "metadata": {
        "colab": {
          "base_uri": "https://localhost:8080/"
        },
        "id": "46ha1PfTM-oQ",
        "outputId": "705556d7-8330-4cab-80b0-a51b3503656f"
      },
      "source": [
        "print(similarity)"
      ],
      "execution_count": 64,
      "outputs": [
        {
          "output_type": "stream",
          "name": "stdout",
          "text": [
            "[[1.         0.07649265 0.07649265 ... 0.41776706 0.10382637 0.        ]\n",
            " [0.07649265 1.         1.         ... 0.09228524 0.71538712 0.        ]\n",
            " [0.07649265 1.         1.         ... 0.09228524 0.71538712 0.        ]\n",
            " ...\n",
            " [0.41776706 0.09228524 0.09228524 ... 1.         0.12526225 0.        ]\n",
            " [0.10382637 0.71538712 0.71538712 ... 0.12526225 1.         0.        ]\n",
            " [0.         0.         0.         ... 0.         0.         1.        ]]\n"
          ]
        }
      ]
    },
    {
      "cell_type": "code",
      "metadata": {
        "colab": {
          "base_uri": "https://localhost:8080/"
        },
        "id": "PLkvII-wM_5I",
        "outputId": "6e88c660-2629-4451-a0b9-07b72f5add73"
      },
      "source": [
        "print(similarity.shape)"
      ],
      "execution_count": 65,
      "outputs": [
        {
          "output_type": "stream",
          "name": "stdout",
          "text": [
            "(1300, 1300)\n"
          ]
        }
      ]
    },
    {
      "cell_type": "markdown",
      "metadata": {
        "id": "EG3JItMUWeDD"
      },
      "source": [
        "Getting the job name from the user"
      ]
    },
    {
      "cell_type": "markdown",
      "source": [
        "# New Section"
      ],
      "metadata": {
        "id": "TPewF4Fz5lI8"
      }
    },
    {
      "cell_type": "code",
      "metadata": {
        "colab": {
          "base_uri": "https://localhost:8080/"
        },
        "id": "bhSWJgqgNDo7",
        "outputId": "1de0ac76-9ebd-4d59-f57f-5e6f0db1d45f"
      },
      "source": [
        "name = input(' Enter your Role : ')"
      ],
      "execution_count": 66,
      "outputs": [
        {
          "name": "stdout",
          "output_type": "stream",
          "text": [
            " Enter your Role : Technician\n"
          ]
        }
      ]
    },
    {
      "cell_type": "code",
      "metadata": {
        "colab": {
          "base_uri": "https://localhost:8080/"
        },
        "id": "VQ8Qvu8vNj4U",
        "outputId": "6cfb3d00-28ba-4241-c0c8-80e55dce5276"
      },
      "source": [
        "# creating a list with all the job roles given in the dataset\n",
        "\n",
        "list_of_all_titles = data['Roles'].tolist()\n",
        "print(list_of_all_titles)\n",
        "print(len(list_of_all_titles))\n",
        "cleanedList = [x for x in list_of_all_titles if str(x) != 'nan']\n",
        "print(cleanedList)"
      ],
      "execution_count": 67,
      "outputs": [
        {
          "output_type": "stream",
          "name": "stdout",
          "text": [
            "['Asset Manager', 'Chief Engineer', 'Chief Engineer', 'Chief Engineer', 'Asset Manager', 'Maintenance Supervisor', 'Asset Manager', 'Chief Engineer', 'Leasing Manager', 'Leasing Manager', 'Chief Engineer', 'Facility Coordinator', 'Leasing Manager', 'Facility Coordinator', 'Facility Coordinator', 'Maintenance Supervisor', 'Leasing Manager', 'Maintenance Supervisor', 'Leasing Manager', 'Asset Manager', 'Maintenance Supervisor', 'Chief Engineer', 'Asset Manager', 'Maintenance Supervisor', 'Leasing Manager', 'Chief Engineer', 'Chief Engineer', 'Chief Engineer', 'Maintenance Supervisor', 'Maintenance Supervisor', 'Maintenance Supervisor', 'Facility Coordinator', 'Asset Manager', 'Maintenance Supervisor', 'Leasing Manager', 'Asset Manager', 'Leasing Manager', 'Maintenance Supervisor', 'Maintenance Supervisor', 'Leasing Manager', 'Leasing Manager', 'Facility Coordinator', 'Chief Engineer', 'Chief Engineer', 'Maintenance Supervisor', 'Asset Manager', 'Asset Manager', 'Facility Coordinator', 'Maintenance Supervisor', 'Leasing Manager', 'Facility Coordinator', 'Chief Engineer', 'Facility Coordinator', 'Maintenance Supervisor', 'Asset Manager', 'Leasing Manager', 'Asset Manager', 'Asset Manager', 'Maintenance Supervisor', 'Chief Engineer', 'Maintenance Supervisor', 'Chief Engineer', 'Leasing Manager', 'Chief Engineer', 'Leasing Manager', 'Maintenance Supervisor', 'Chief Engineer', 'Facility Coordinator', 'Chief Engineer', 'Asset Manager', 'Facility Coordinator', 'Leasing Manager', 'Maintenance Supervisor', 'Asset Manager', 'Leasing Manager', 'Facility Coordinator', 'Chief Engineer', 'Chief Engineer', 'Leasing Manager', 'Leasing Manager', 'Chief Engineer', 'Leasing Manager', 'Facility Coordinator', 'Chief Engineer', 'Facility Coordinator', 'Asset Manager', 'Asset Manager', 'Leasing Manager', 'Asset Manager', 'Asset Manager', 'Leasing Manager', 'Facility Coordinator', 'Chief Engineer', 'Facility Coordinator', 'Maintenance Supervisor', 'Leasing Manager', 'Asset Manager', 'Asset Manager', 'Asset Manager', 'Leasing Manager', 'Chief Engineer', 'Chief Engineer', 'Chief Engineer', 'Leasing Manager', 'Facility Coordinator', 'Facility Coordinator', 'Asset Manager', 'Leasing Manager', 'Maintenance Supervisor', 'Leasing Manager', 'Chief Engineer', 'Facility Coordinator', 'Chief Engineer', 'Leasing Manager', 'Asset Manager', 'Facility Coordinator', 'Facility Coordinator', 'Chief Engineer', 'Leasing Manager', 'Maintenance Supervisor', 'Leasing Manager', 'Facility Coordinator', 'Facility Coordinator', 'Leasing Manager', 'Chief Engineer', 'Asset Manager', 'Asset Manager', 'Asset Manager', 'Chief Engineer', 'Facility Coordinator', 'Maintenance Supervisor', 'Chief Engineer', 'Facility Coordinator', 'Asset Manager', 'Facility Coordinator', 'Leasing Manager', 'Asset Manager', 'Leasing Manager', 'Leasing Manager', 'Maintenance Supervisor', 'Maintenance Supervisor', 'Maintenance Supervisor', 'Chief Engineer', 'Asset Manager', 'Chief Engineer', 'Maintenance Supervisor', 'Asset Manager', 'Maintenance Supervisor', 'Maintenance Supervisor', 'Asset Manager', 'Leasing Manager', 'Asset Manager', 'Maintenance Supervisor', 'Maintenance Supervisor', 'Facility Coordinator', 'Chief Engineer', 'Chief Engineer', 'Chief Engineer', 'Chief Engineer', 'Facility Coordinator', 'Leasing Manager', 'Asset Manager', 'Leasing Manager', 'Leasing Manager', 'Maintenance Supervisor', 'Leasing Manager', 'Asset Manager', 'Leasing Manager', 'Facility Coordinator', 'Maintenance Supervisor', 'Maintenance Supervisor', 'Leasing Manager', 'Asset Manager', 'Facility Coordinator', 'Asset Manager', 'Facility Coordinator', 'Leasing Manager', 'Maintenance Supervisor', 'Chief Engineer', 'Asset Manager', 'Chief Engineer', 'Asset Manager', 'Asset Manager', 'Leasing Manager', 'Leasing Manager', 'Leasing Manager', 'Maintenance Supervisor', 'Asset Manager', 'Maintenance Supervisor', 'Chief Engineer', 'Leasing Manager', 'Asset Manager', 'Maintenance Supervisor', 'Chief Engineer', 'Leasing Manager', 'Leasing Manager', 'Chief Engineer', 'Chief Engineer', 'Facility Coordinator', 'Asset Manager', 'Facility Coordinator', 'Chief Engineer', 'Chief Engineer', 'Maintenance Supervisor', 'Maintenance Supervisor', 'Maintenance Supervisor', 'Chief Engineer', 'Leasing Manager', 'Asset Manager', 'Chief Engineer', 'Chief Engineer', 'Chief Engineer', 'Facility Coordinator', 'Chief Engineer', 'Maintenance Supervisor', 'Maintenance Supervisor', 'Maintenance Supervisor', 'Leasing Manager', 'Asset Manager', 'Asset Manager', 'Maintenance Supervisor', 'Facility Coordinator', 'Leasing Manager', 'Chief Engineer', 'Leasing Manager', 'Asset Manager', 'Leasing Manager', 'Maintenance Supervisor', 'Leasing Manager', 'Leasing Manager', 'Chief Engineer', 'Facility Coordinator', 'Chief Engineer', 'Chief Engineer', 'Facility Coordinator', 'Chief Engineer', 'Chief Engineer', 'Asset Manager', 'Leasing Manager', 'Leasing Manager', 'Facility Coordinator', 'Facility Coordinator', 'Asset Manager', 'Maintenance Supervisor', 'Asset Manager', 'Asset Manager', 'Chief Engineer', 'Chief Engineer', 'Leasing Manager', 'Leasing Manager', 'Leasing Manager', 'Maintenance Supervisor', 'Maintenance Supervisor', 'Maintenance Supervisor', 'Chief Engineer', 'Facility Coordinator', 'Chief Engineer', 'Maintenance Supervisor', 'Maintenance Supervisor', 'Maintenance Supervisor', 'Chief Engineer', 'Asset Manager', 'Asset Manager', 'Leasing Manager', 'Maintenance Supervisor', 'Chief Engineer', 'Leasing Manager', 'Leasing Manager', 'Maintenance Supervisor', 'Facility Coordinator', 'Facility Coordinator', 'Leasing Manager', 'Leasing Manager', 'Leasing Manager', 'Leasing Manager', 'Maintenance Supervisor', 'Maintenance Supervisor', 'Leasing Manager', 'Asset Manager', 'Maintenance Supervisor', 'Facility Coordinator', 'Chief Engineer', 'Maintenance Supervisor', 'Facility Coordinator', 'Facility Coordinator', 'Leasing Manager', 'Facility Coordinator', 'Facility Coordinator', 'Asset Manager', 'Asset Manager', 'Asset Manager', 'Leasing Manager', 'Facility Coordinator', 'Maintenance Supervisor', 'Chief Engineer', 'Asset Manager', 'Facility Coordinator', 'Asset Manager', 'Maintenance Supervisor', 'Asset Manager', 'Leasing Manager', 'Maintenance Supervisor', 'Asset Manager', 'Maintenance Supervisor', 'Asset Manager', 'Maintenance Supervisor', 'Facility Coordinator', 'Facility Coordinator', 'Leasing Manager', 'Facility Coordinator', 'Facility Coordinator', 'Facility Coordinator', 'Facility Coordinator', 'Asset Manager', 'Leasing Manager', 'Leasing Manager', 'Chief Engineer', 'Asset Manager', 'Facility Coordinator', 'Chief Engineer', 'Asset Manager', 'Maintenance Supervisor', 'Asset Manager', 'Facility Coordinator', 'Asset Manager', 'Maintenance Supervisor', 'Asset Manager', 'Leasing Manager', 'Facility Coordinator', 'Asset Manager', 'Facility Coordinator', 'Leasing Manager', 'Facility Coordinator', 'Facility Coordinator', 'Chief Engineer', 'Chief Engineer', 'Facility Coordinator', 'Facility Coordinator', 'Chief Engineer', 'Facility Coordinator', 'Maintenance Supervisor', 'Leasing Manager', 'Maintenance Supervisor', 'Chief Engineer', 'Leasing Manager', 'Chief Engineer', 'Maintenance Supervisor', 'Asset Manager', 'Asset Manager', 'Asset Manager', 'Leasing Manager', 'Chief Engineer', 'Leasing Manager', 'Leasing Manager', 'Maintenance Supervisor', 'Chief Engineer', 'Asset Manager', 'Leasing Manager', 'Chief Engineer', 'Leasing Manager', 'Chief Engineer', 'Maintenance Supervisor', 'Maintenance Supervisor', 'Maintenance Supervisor', 'Asset Manager', 'Chief Engineer', 'Leasing Manager', 'Leasing Manager', 'Facility Coordinator', 'Facility Coordinator', 'Asset Manager', 'Maintenance Supervisor', 'Asset Manager', 'Facility Coordinator', 'Maintenance Supervisor', 'Asset Manager', 'Chief Engineer', 'Chief Engineer', 'Leasing Manager', 'Facility Coordinator', 'Leasing Manager', 'Leasing Manager', 'Maintenance Supervisor', 'Chief Engineer', 'Leasing Manager', 'Leasing Manager', 'Asset Manager', 'Facility Coordinator', 'Maintenance Supervisor', 'Facility Coordinator', 'Chief Engineer', 'Facility Coordinator', 'Facility Coordinator', 'Chief Engineer', 'Asset Manager', 'Chief Engineer', 'Maintenance Supervisor', 'Facility Coordinator', 'Chief Engineer', 'Chief Engineer', 'Asset Manager', 'Facility Coordinator', 'Maintenance Supervisor', 'Chief Engineer', 'Chief Engineer', 'Leasing Manager', 'Maintenance Supervisor', 'Facility Coordinator', 'Facility Coordinator', 'Maintenance Supervisor', 'Leasing Manager', 'Leasing Manager', 'Facility Coordinator', 'Facility Coordinator', 'Asset Manager', 'Maintenance Supervisor', 'Maintenance Supervisor', 'Asset Manager', 'Leasing Manager', 'Facility Coordinator', 'Facility Coordinator', 'Leasing Manager', 'Maintenance Supervisor', 'Maintenance Supervisor', 'Chief Engineer', 'Maintenance Supervisor', 'Chief Engineer', 'Asset Manager', 'Maintenance Supervisor', 'Facility Coordinator', 'Asset Manager', 'Maintenance Supervisor', 'Maintenance Supervisor', 'Leasing Manager', 'Maintenance Supervisor', 'Maintenance Supervisor', 'Chief Engineer', 'Asset Manager', 'Asset Manager', 'Chief Engineer', 'Leasing Manager', 'Asset Manager', 'Chief Engineer', 'Leasing Manager', 'Chief Engineer', 'Maintenance Supervisor', 'Facility Coordinator', 'Chief Engineer', 'Leasing Manager', 'Leasing Manager', 'Leasing Manager', 'Leasing Manager', 'Facility Coordinator', 'Facility Coordinator', 'Facility Coordinator', 'Asset Manager', 'Leasing Manager', 'Maintenance Supervisor', 'Leasing Manager', 'Asset Manager', 'Chief Engineer', 'Facility Coordinator', 'Chief Engineer', 'Asset Manager', 'Leasing Manager', 'Asset Manager', 'Asset Manager', 'Maintenance Supervisor', 'Asset Manager', 'Chief Engineer', 'Asset Manager', 'Chief Engineer', 'Chief Engineer', 'Maintenance Supervisor', 'Leasing Manager', 'Asset Manager', 'Facility Coordinator', 'Leasing Manager', 'Chief Engineer', 'Chief Engineer', 'Maintenance Supervisor', 'Chief Engineer', 'Leasing Manager', 'Facility Coordinator', 'Chief Engineer', 'Maintenance Supervisor', 'Maintenance Supervisor', 'Maintenance Supervisor', 'Asset Manager', 'Chief Engineer', 'Maintenance Supervisor', 'Chief Engineer', 'Leasing Manager', 'Chief Engineer', 'Leasing Manager', 'Facility Coordinator', 'Asset Manager', 'Facility Coordinator', 'Asset Manager', 'Maintenance Supervisor', 'Asset Manager', 'Facility Coordinator', 'Maintenance Supervisor', 'Asset Manager', 'Chief Engineer', 'Maintenance Supervisor', 'Facility Coordinator', 'Asset Manager', 'Facility Coordinator', 'Facility Coordinator', 'Facility Coordinator', 'Asset Manager', 'Chief Engineer', 'Chief Engineer', 'Chief Engineer', 'Maintenance Supervisor', 'Maintenance Supervisor', 'Asset Manager', 'Chief Engineer', 'Chief Engineer', 'Facility Coordinator', 'Facility Coordinator', 'Facility Coordinator', 'Leasing Manager', 'Asset Manager', 'Chief Engineer', 'Facility Coordinator', 'Asset Manager', 'Chief Engineer', 'Chief Engineer', 'Chief Engineer', 'Asset Manager', 'Chief Engineer', 'Maintenance Supervisor', 'Chief Engineer', 'Chief Engineer', 'Asset Manager', 'Asset Manager', 'Asset Manager', 'Leasing Manager', 'Maintenance Supervisor', 'Maintenance Supervisor', 'Maintenance Supervisor', 'Leasing Manager', 'Chief Engineer', 'Facility Coordinator', 'Asset Manager', 'Chief Engineer', 'Maintenance Supervisor', 'Asset Manager', 'Chief Engineer', 'Leasing Manager', 'Maintenance Supervisor', 'Maintenance Supervisor', 'Facility Coordinator', 'Asset Manager', 'Asset Manager', 'Facility Coordinator', 'Chief Engineer', 'Asset Manager', 'Asset Manager', 'Asset Manager', 'Asset Manager', 'Maintenance Supervisor', 'Leasing Manager', 'Facility Coordinator', 'Leasing Manager', 'Leasing Manager', 'Maintenance Supervisor', 'Maintenance Supervisor', 'Chief Engineer', 'Facility Coordinator', 'Facility Coordinator', 'Asset Manager', 'Leasing Manager', 'Leasing Manager', 'Facility Coordinator', 'Maintenance Supervisor', 'Facility Coordinator', 'Asset Manager', 'Chief Engineer', 'Asset Manager', 'Chief Engineer', 'Maintenance Supervisor', 'Asset Manager', 'Chief Engineer', 'Leasing Manager', 'Facility Coordinator', 'Chief Engineer', 'Leasing Manager', 'Leasing Manager', 'Chief Engineer', 'Leasing Manager', 'Chief Engineer', 'Leasing Manager', 'Facility Coordinator', 'Maintenance Supervisor', 'Facility Coordinator', 'Facility Coordinator', 'Facility Coordinator', 'Maintenance Supervisor', 'Asset Manager', 'Asset Manager', 'Asset Manager', 'Leasing Manager', 'Chief Engineer', 'Maintenance Supervisor', 'Asset Manager', 'Chief Engineer', 'Facility Coordinator', 'Maintenance Supervisor', 'Facility Coordinator', 'Facility Coordinator', 'Chief Engineer', 'Facility Coordinator', 'Maintenance Supervisor', 'Chief Engineer', 'Asset Manager', 'Asset Manager', 'Leasing Manager', 'Asset Manager', 'Facility Coordinator', 'Asset Manager', 'Maintenance Supervisor', 'Leasing Manager', 'Leasing Manager', 'Asset Manager', 'Chief Engineer', 'Leasing Manager', 'Asset Manager', 'Facility Coordinator', 'Asset Manager', 'Facility Coordinator', 'Facility Coordinator', 'Maintenance Supervisor', 'Chief Engineer', 'Leasing Manager', 'Chief Engineer', 'Leasing Manager', 'Chief Engineer', 'Chief Engineer', 'Asset Manager', 'Chief Engineer', 'Asset Manager', 'Facility Coordinator', 'Leasing Manager', 'Maintenance Supervisor', 'Leasing Manager', 'Maintenance Supervisor', 'Chief Engineer', 'Asset Manager', 'Asset Manager', 'Facility Coordinator', 'Leasing Manager', 'Maintenance Supervisor', 'Facility Coordinator', 'Maintenance Supervisor', 'Chief Engineer', 'Facility Coordinator', 'Leasing Manager', 'Asset Manager', 'Facility Coordinator', 'Leasing Manager', 'Leasing Manager', 'Chief Engineer', 'Chief Engineer', 'Asset Manager', 'Facility Coordinator', 'Chief Engineer', 'Facility Coordinator', 'Chief Engineer', 'Asset Manager', 'Chief Engineer', 'Chief Engineer', 'Chief Engineer', 'Facility Coordinator', 'Leasing Manager', 'Facility Coordinator', 'Facility Coordinator', 'Facility Coordinator', 'Asset Manager', 'Chief Engineer', 'Chief Engineer', 'Facility Coordinator', 'Chief Engineer', 'Leasing Manager', 'Maintenance Supervisor', 'Maintenance Supervisor', 'Leasing Manager', 'Chief Engineer', 'Asset Manager', 'Chief Engineer', 'Leasing Manager', 'Asset Manager', 'Facility Coordinator', 'Leasing Manager', 'Leasing Manager', 'Facility Coordinator', 'Chief Engineer', 'Asset Manager', 'Asset Manager', 'Asset Manager', 'Maintenance Supervisor', 'Facility Coordinator', 'Facility Coordinator', 'Facility Coordinator', 'Leasing Manager', 'Maintenance Supervisor', 'Leasing Manager', 'Asset Manager', 'Maintenance Supervisor', 'Leasing Manager', 'Chief Engineer', 'Chief Engineer', 'Leasing Manager', 'Maintenance Supervisor', 'Maintenance Supervisor', 'Asset Manager', 'Maintenance Supervisor', 'Leasing Manager', 'Facility Coordinator', 'Maintenance Supervisor', 'Asset Manager', 'Leasing Manager', 'Asset Manager', 'Leasing Manager', 'Asset Manager', 'Facility Coordinator', 'Asset Manager', 'Facility Coordinator', 'Maintenance Supervisor', 'Facility Coordinator', 'Facility Coordinator', 'Chief Engineer', 'Facility Coordinator', 'Maintenance Supervisor', 'Chief Engineer', 'Leasing Manager', 'Asset Manager', 'Maintenance Supervisor', 'Chief Engineer', 'Leasing Manager', 'Facility Coordinator', 'Maintenance Supervisor', 'Leasing Manager', 'Leasing Manager', 'Maintenance Supervisor', 'Asset Manager', 'Chief Engineer', 'Chief Engineer', 'Facility Coordinator', 'Asset Manager', 'Leasing Manager', 'Asset Manager', 'Chief Engineer', 'Asset Manager', 'Chief Engineer', 'Asset Manager', 'Facility Coordinator', 'Asset Manager', 'Facility Coordinator', 'Facility Coordinator', 'Leasing Manager', 'Maintenance Supervisor', 'Maintenance Supervisor', 'Leasing Manager', 'Facility Coordinator', 'Facility Coordinator', 'Facility Coordinator', 'Chief Engineer', 'Facility Coordinator', 'Facility Coordinator', 'Facility Coordinator', 'Leasing Manager', 'Leasing Manager', 'Chief Engineer', 'Leasing Manager', 'Facility Coordinator', 'Facility Coordinator', 'Asset Manager', 'Maintenance Supervisor', 'Asset Manager', 'Maintenance Supervisor', 'Asset Manager', 'Asset Manager', 'Facility Coordinator', 'Chief Engineer', 'Chief Engineer', 'Asset Manager', 'Asset Manager', 'Chief Engineer', 'Asset Manager', 'Chief Engineer', 'Chief Engineer', 'Chief Engineer', 'Maintenance Supervisor', 'Chief Engineer', 'Chief Engineer', 'Maintenance Supervisor', 'Chief Engineer', 'Chief Engineer', 'Leasing Manager', 'Facility Coordinator', 'Chief Engineer', 'Asset Manager', 'Leasing Manager', 'Facility Coordinator', 'Maintenance Supervisor', 'Asset Manager', 'Asset Manager', 'Leasing Manager', 'Chief Engineer', 'Chief Engineer', 'Chief Engineer', 'Maintenance Supervisor', 'Asset Manager', 'Maintenance Supervisor', 'Leasing Manager', 'Facility Coordinator', 'Facility Coordinator', 'Facility Coordinator', 'Asset Manager', 'Leasing Manager', 'Facility Coordinator', 'Chief Engineer', 'Facility Coordinator', 'Facility Coordinator', 'Leasing Manager', 'Leasing Manager', 'Maintenance Supervisor', 'Chief Engineer', 'Facility Coordinator', 'Facility Coordinator', 'Maintenance Supervisor', 'Chief Engineer', 'Facility Coordinator', 'Maintenance Supervisor', 'Maintenance Supervisor', 'Facility Coordinator', 'Facility Coordinator', 'Asset Manager', 'Facility Coordinator', 'Maintenance Supervisor', 'Maintenance Supervisor', 'Facility Coordinator', 'Asset Manager', 'Asset Manager', 'Asset Manager', 'Maintenance Supervisor', 'Maintenance Supervisor', 'Facility Coordinator', 'Maintenance Supervisor', 'Leasing Manager', 'Maintenance Supervisor', 'Chief Engineer', 'Asset Manager', 'Asset Manager', 'Maintenance Supervisor', 'Maintenance Supervisor', 'Chief Engineer', 'Leasing Manager', 'Chief Engineer', 'Asset Manager', 'Asset Manager', 'Leasing Manager', 'Maintenance Supervisor', 'Leasing Manager', 'Leasing Manager', 'Asset Manager', 'Maintenance Supervisor', 'Facility Coordinator', 'Leasing Manager', 'Facility Coordinator', 'Maintenance Supervisor', 'Leasing Manager', 'Chief Engineer', 'Asset Manager', 'Leasing Manager', 'Facility Coordinator', 'Asset Manager', 'Leasing Manager', 'Chief Engineer', 'Asset Manager', 'Leasing Manager', 'Maintenance Supervisor', 'Maintenance Supervisor', 'Facility Coordinator', 'Facility Coordinator', 'Maintenance Supervisor', 'Chief Engineer', 'Leasing Manager', 'Leasing Manager', 'Asset Manager', 'Facility Coordinator', 'Leasing Manager', 'Asset Manager', 'Facility Coordinator', 'Asset Manager', 'Asset Manager', 'Asset Manager', 'Maintenance Supervisor', 'Chief Engineer', 'Leasing Manager', 'Maintenance Supervisor', 'Maintenance Supervisor', 'Asset Manager', 'Chief Engineer', 'Asset Manager', 'Leasing Manager', 'Chief Engineer', 'Facility Coordinator', 'Maintenance Supervisor', 'Maintenance Supervisor', 'Asset Manager', 'Chief Engineer', 'Maintenance Supervisor', 'Asset Manager', 'Chief Engineer', 'Leasing Manager', 'Chief Engineer', 'Maintenance Supervisor', 'Maintenance Supervisor', 'Chief Engineer', 'Maintenance Supervisor', 'Facility Coordinator', 'Asset Manager', 'Chief Engineer', 'Facility Coordinator', 'Asset Manager', 'Maintenance Supervisor', 'Facility Coordinator', 'Leasing Manager', 'Chief Engineer', 'Leasing Manager', 'Maintenance Supervisor', 'Leasing Manager', 'Facility Coordinator', 'Maintenance Supervisor', 'Facility Coordinator', 'Asset Manager', 'Facility Coordinator', 'Maintenance Supervisor', 'Leasing Manager', 'Asset Manager', 'Maintenance Supervisor', 'Asset Manager', 'Facility Coordinator', 'Maintenance Supervisor', 'Maintenance Supervisor', 'Maintenance Supervisor', 'Asset Manager', 'Leasing Manager', 'Maintenance Supervisor', 'Facility Coordinator', 'Chief Engineer', 'Asset Manager', 'Maintenance Supervisor', 'Asset Manager', 'Chief Engineer', 'Asset Manager', 'Chief Engineer', 'Asset Manager', 'Facility Coordinator', 'Facility Coordinator', 'Leasing Manager', 'Leasing Manager', 'Chief Engineer', 'Maintenance Supervisor', 'Maintenance Supervisor', 'Leasing Manager', 'Asset Manager', 'Maintenance Supervisor', 'Maintenance Supervisor', 'Facility Coordinator', 'Maintenance Supervisor', 'Asset Manager', 'Facility Coordinator', 'Leasing Manager', 'Leasing Manager', 'Asset Manager', 'Maintenance Supervisor', 'Asset Manager', 'Facility Coordinator', 'Asset Manager', 'Leasing Manager', 'Facility Coordinator', 'Asset Manager', 'Leasing Manager', 'Maintenance Supervisor', 'Facility Coordinator', 'Maintenance Supervisor', 'Asset Manager', 'Facility Coordinator', 'Leasing Manager', 'Asset Manager', 'Maintenance Supervisor', 'Asset Manager', 'Asset Manager', 'Maintenance Supervisor', 'Maintenance Supervisor', 'Technician', 'Leasing Manager', 'Facility Coordinator', 'Chief Engineer', 'Asset Manager', 'Chief Engineer', 'Technician', 'Technician', 'Facility Coordinator', 'Chief Engineer', 'Leasing Manager', 'Chief Engineer', 'Building manger', 'Asset Manager', 'Account Director', 'Account Director', 'Technician', 'Asset Manager', 'Facility Coordinator', 'Building manger', 'Asset Manager', 'Asset Manager', 'Leasing Manager', 'Technician', 'Technician', 'Building manger', 'Facility Coordinator', 'Leasing Manager', 'Maintenance Supervisor', 'Maintenance Supervisor', 'Maintenance Supervisor', 'Leasing Manager', 'Building manger', 'Building manger', 'Account Director', 'Facilities Coordinator', 'Leasing Manager', 'Chief Engineer', 'Chief Engineer', 'Chief Engineer', 'Facility Coordinator', 'Asset Manager', 'Chief Engineer', 'Maintenance Supervisor', 'Maintenance Supervisor', 'Building manger', 'Technician', 'Building manger', 'Maintenance Supervisor', 'Building manger', 'Facility Coordinator', 'Chief Engineer', 'Account Director', 'Leasing Manager', 'Facility Coordinator', 'Account Director', 'Facility Coordinator', 'Facilities Coordinator', 'Facility Coordinator', 'Facility Coordinator', 'Technician', 'Maintenance Supervisor', 'Chief Engineer', 'Building manger', 'Chief Engineer', 'Building manger', 'Chief Engineer', 'Building manger', 'Asset Manager', 'Maintenance Supervisor', 'Facility Coordinator', 'Technician', 'Facility Coordinator', 'Chief Engineer', 'Leasing Manager', 'Asset Manager', 'Building manger', 'Maintenance Supervisor', 'Building manger', 'Leasing Manager', 'Facility Coordinator', 'Asset Manager', 'Asset Manager', 'Technician', 'Facilities Coordinator', 'Asset Manager', 'Facility Coordinator', 'Facilities Coordinator', 'Facility Coordinator', 'Building manger', 'Chief Engineer', 'Maintenance Supervisor', 'Chief Engineer', 'Leasing Manager', 'Facility Coordinator', 'Account Director', 'Chief Engineer', 'Facility Coordinator', 'Facilities Coordinator', 'Technician', 'Maintenance Supervisor', 'Account Director', 'Facility Coordinator', 'Chief Engineer', 'Facility Coordinator', 'Facilities Coordinator', 'Building manger', 'Technician', 'Leasing Manager', 'Facility Coordinator', 'Maintenance Supervisor', 'Chief Engineer', 'Leasing Manager', 'Asset Manager', 'Building manger', 'Leasing Manager', 'Asset Manager', 'Maintenance Supervisor', 'Chief Engineer', 'Chief Engineer', 'Asset Manager', 'Building manger', 'Technician', 'Leasing Manager', 'Chief Engineer', 'Building manger', 'Facility Coordinator', 'Facility Coordinator', 'Building manger', 'Leasing Manager', 'Chief Engineer', 'Maintenance Supervisor', 'Facilities Coordinator', 'Leasing Manager', 'Facility Coordinator', 'Leasing Manager', 'Maintenance Supervisor', 'Chief Engineer', 'Facility Coordinator', 'Building manger', 'Asset Manager', 'Facilities Coordinator', 'Technician', 'Facility Coordinator', 'Facility Coordinator', 'Building manger', 'Building manger', 'Facility Coordinator', 'Building manger', 'Asset Manager', 'Leasing Manager', 'Facility Coordinator', 'Leasing Manager', 'Maintenance Supervisor', 'Chief Engineer', 'Technician', 'Maintenance Supervisor', 'Facility Coordinator', 'Building manger', 'Building manger', 'Technician', 'Building manger', 'Facility Coordinator', 'Facilities Coordinator', 'Asset Manager', 'Facility Coordinator', 'Technician', 'Technician', 'Maintenance Supervisor', 'Building manger', 'Chief Engineer', 'Building manger', 'Leasing Manager', 'Building manger', 'Technician', 'Maintenance Supervisor', 'Chief Engineer', 'Account Director', 'Facility Coordinator', 'Building manger', 'Building manger', 'Asset Manager', 'Maintenance Supervisor', 'Asset Manager', 'Technician', 'Leasing Manager', 'Maintenance Supervisor', 'Facility Coordinator', 'Building manger', 'Chief Engineer', 'Technician', 'Chief Engineer', 'Leasing Manager', 'Building manger', 'Maintenance Supervisor', 'Leasing Manager', 'Technician', 'Technician', 'Account Director', 'Building manger', 'Chief Engineer', 'Technician', 'Leasing Manager', 'Facility Coordinator', 'Maintenance Supervisor', 'Chief Engineer', 'Facility Coordinator', 'Leasing Manager', 'Facility Coordinator', 'Asset Manager', 'Leasing Manager', 'Leasing Manager', 'Facility Coordinator', 'Account Director', 'Chief Engineer', 'Maintenance Supervisor', 'Maintenance Supervisor', 'Technician', 'Account Director', 'Asset Manager', 'Facility Coordinator', 'Chief Engineer', 'Building manger', 'Technician', 'Chief Engineer', 'Asset Manager', 'Leasing Manager', 'Facility Coordinator', 'Building manger', 'Chief Engineer', 'Technician', 'Chief Engineer', 'Maintenance Supervisor', 'Building manger', 'Chief Engineer', 'Facilities Coordinator', 'Asset Manager', 'Chief Engineer', 'Chief Engineer', 'Chief Engineer', 'Asset Manager', 'Chief Engineer', 'Chief Engineer', 'Technician', 'Leasing Manager', 'Chief Engineer', 'Leasing Manager', 'Technician', 'Facility Coordinator', 'Maintenance Supervisor', 'Leasing Manager', 'Facility Coordinator', 'Building manger', 'Chief Engineer', 'Building manger', 'Leasing Manager', 'Chief Engineer', 'Building manger', 'Technician', 'Chief Engineer', 'Asset Manager', 'Technician', 'Account Director', 'Maintenance Supervisor', 'Asset Manager', 'Chief Engineer', 'Chief Engineer', 'Leasing Manager', 'Asset Manager', 'Facility Coordinator', 'Asset Manager', 'Facility Coordinator', 'Building manger', 'Asset Manager', 'Technician', 'Asset Manager', 'Asset Manager', 'Technician', 'Chief Engineer', 'Leasing Manager', 'Maintenance Supervisor', 'Asset Manager', 'Chief Engineer', 'Building manger', 'Chief Engineer', 'Maintenance Supervisor', 'Facility Coordinator', 'Asset Manager', 'Building manger', 'Facilities Coordinator', 'Leasing Manager', 'Asset Manager', 'Chief Engineer', 'Facility Coordinator', 'Leasing Manager', 'Maintenance Supervisor', 'Maintenance Supervisor', 'Asset Manager', 'Chief Engineer', 'Technician']\n",
            "1300\n",
            "['Asset Manager', 'Chief Engineer', 'Chief Engineer', 'Chief Engineer', 'Asset Manager', 'Maintenance Supervisor', 'Asset Manager', 'Chief Engineer', 'Leasing Manager', 'Leasing Manager', 'Chief Engineer', 'Facility Coordinator', 'Leasing Manager', 'Facility Coordinator', 'Facility Coordinator', 'Maintenance Supervisor', 'Leasing Manager', 'Maintenance Supervisor', 'Leasing Manager', 'Asset Manager', 'Maintenance Supervisor', 'Chief Engineer', 'Asset Manager', 'Maintenance Supervisor', 'Leasing Manager', 'Chief Engineer', 'Chief Engineer', 'Chief Engineer', 'Maintenance Supervisor', 'Maintenance Supervisor', 'Maintenance Supervisor', 'Facility Coordinator', 'Asset Manager', 'Maintenance Supervisor', 'Leasing Manager', 'Asset Manager', 'Leasing Manager', 'Maintenance Supervisor', 'Maintenance Supervisor', 'Leasing Manager', 'Leasing Manager', 'Facility Coordinator', 'Chief Engineer', 'Chief Engineer', 'Maintenance Supervisor', 'Asset Manager', 'Asset Manager', 'Facility Coordinator', 'Maintenance Supervisor', 'Leasing Manager', 'Facility Coordinator', 'Chief Engineer', 'Facility Coordinator', 'Maintenance Supervisor', 'Asset Manager', 'Leasing Manager', 'Asset Manager', 'Asset Manager', 'Maintenance Supervisor', 'Chief Engineer', 'Maintenance Supervisor', 'Chief Engineer', 'Leasing Manager', 'Chief Engineer', 'Leasing Manager', 'Maintenance Supervisor', 'Chief Engineer', 'Facility Coordinator', 'Chief Engineer', 'Asset Manager', 'Facility Coordinator', 'Leasing Manager', 'Maintenance Supervisor', 'Asset Manager', 'Leasing Manager', 'Facility Coordinator', 'Chief Engineer', 'Chief Engineer', 'Leasing Manager', 'Leasing Manager', 'Chief Engineer', 'Leasing Manager', 'Facility Coordinator', 'Chief Engineer', 'Facility Coordinator', 'Asset Manager', 'Asset Manager', 'Leasing Manager', 'Asset Manager', 'Asset Manager', 'Leasing Manager', 'Facility Coordinator', 'Chief Engineer', 'Facility Coordinator', 'Maintenance Supervisor', 'Leasing Manager', 'Asset Manager', 'Asset Manager', 'Asset Manager', 'Leasing Manager', 'Chief Engineer', 'Chief Engineer', 'Chief Engineer', 'Leasing Manager', 'Facility Coordinator', 'Facility Coordinator', 'Asset Manager', 'Leasing Manager', 'Maintenance Supervisor', 'Leasing Manager', 'Chief Engineer', 'Facility Coordinator', 'Chief Engineer', 'Leasing Manager', 'Asset Manager', 'Facility Coordinator', 'Facility Coordinator', 'Chief Engineer', 'Leasing Manager', 'Maintenance Supervisor', 'Leasing Manager', 'Facility Coordinator', 'Facility Coordinator', 'Leasing Manager', 'Chief Engineer', 'Asset Manager', 'Asset Manager', 'Asset Manager', 'Chief Engineer', 'Facility Coordinator', 'Maintenance Supervisor', 'Chief Engineer', 'Facility Coordinator', 'Asset Manager', 'Facility Coordinator', 'Leasing Manager', 'Asset Manager', 'Leasing Manager', 'Leasing Manager', 'Maintenance Supervisor', 'Maintenance Supervisor', 'Maintenance Supervisor', 'Chief Engineer', 'Asset Manager', 'Chief Engineer', 'Maintenance Supervisor', 'Asset Manager', 'Maintenance Supervisor', 'Maintenance Supervisor', 'Asset Manager', 'Leasing Manager', 'Asset Manager', 'Maintenance Supervisor', 'Maintenance Supervisor', 'Facility Coordinator', 'Chief Engineer', 'Chief Engineer', 'Chief Engineer', 'Chief Engineer', 'Facility Coordinator', 'Leasing Manager', 'Asset Manager', 'Leasing Manager', 'Leasing Manager', 'Maintenance Supervisor', 'Leasing Manager', 'Asset Manager', 'Leasing Manager', 'Facility Coordinator', 'Maintenance Supervisor', 'Maintenance Supervisor', 'Leasing Manager', 'Asset Manager', 'Facility Coordinator', 'Asset Manager', 'Facility Coordinator', 'Leasing Manager', 'Maintenance Supervisor', 'Chief Engineer', 'Asset Manager', 'Chief Engineer', 'Asset Manager', 'Asset Manager', 'Leasing Manager', 'Leasing Manager', 'Leasing Manager', 'Maintenance Supervisor', 'Asset Manager', 'Maintenance Supervisor', 'Chief Engineer', 'Leasing Manager', 'Asset Manager', 'Maintenance Supervisor', 'Chief Engineer', 'Leasing Manager', 'Leasing Manager', 'Chief Engineer', 'Chief Engineer', 'Facility Coordinator', 'Asset Manager', 'Facility Coordinator', 'Chief Engineer', 'Chief Engineer', 'Maintenance Supervisor', 'Maintenance Supervisor', 'Maintenance Supervisor', 'Chief Engineer', 'Leasing Manager', 'Asset Manager', 'Chief Engineer', 'Chief Engineer', 'Chief Engineer', 'Facility Coordinator', 'Chief Engineer', 'Maintenance Supervisor', 'Maintenance Supervisor', 'Maintenance Supervisor', 'Leasing Manager', 'Asset Manager', 'Asset Manager', 'Maintenance Supervisor', 'Facility Coordinator', 'Leasing Manager', 'Chief Engineer', 'Leasing Manager', 'Asset Manager', 'Leasing Manager', 'Maintenance Supervisor', 'Leasing Manager', 'Leasing Manager', 'Chief Engineer', 'Facility Coordinator', 'Chief Engineer', 'Chief Engineer', 'Facility Coordinator', 'Chief Engineer', 'Chief Engineer', 'Asset Manager', 'Leasing Manager', 'Leasing Manager', 'Facility Coordinator', 'Facility Coordinator', 'Asset Manager', 'Maintenance Supervisor', 'Asset Manager', 'Asset Manager', 'Chief Engineer', 'Chief Engineer', 'Leasing Manager', 'Leasing Manager', 'Leasing Manager', 'Maintenance Supervisor', 'Maintenance Supervisor', 'Maintenance Supervisor', 'Chief Engineer', 'Facility Coordinator', 'Chief Engineer', 'Maintenance Supervisor', 'Maintenance Supervisor', 'Maintenance Supervisor', 'Chief Engineer', 'Asset Manager', 'Asset Manager', 'Leasing Manager', 'Maintenance Supervisor', 'Chief Engineer', 'Leasing Manager', 'Leasing Manager', 'Maintenance Supervisor', 'Facility Coordinator', 'Facility Coordinator', 'Leasing Manager', 'Leasing Manager', 'Leasing Manager', 'Leasing Manager', 'Maintenance Supervisor', 'Maintenance Supervisor', 'Leasing Manager', 'Asset Manager', 'Maintenance Supervisor', 'Facility Coordinator', 'Chief Engineer', 'Maintenance Supervisor', 'Facility Coordinator', 'Facility Coordinator', 'Leasing Manager', 'Facility Coordinator', 'Facility Coordinator', 'Asset Manager', 'Asset Manager', 'Asset Manager', 'Leasing Manager', 'Facility Coordinator', 'Maintenance Supervisor', 'Chief Engineer', 'Asset Manager', 'Facility Coordinator', 'Asset Manager', 'Maintenance Supervisor', 'Asset Manager', 'Leasing Manager', 'Maintenance Supervisor', 'Asset Manager', 'Maintenance Supervisor', 'Asset Manager', 'Maintenance Supervisor', 'Facility Coordinator', 'Facility Coordinator', 'Leasing Manager', 'Facility Coordinator', 'Facility Coordinator', 'Facility Coordinator', 'Facility Coordinator', 'Asset Manager', 'Leasing Manager', 'Leasing Manager', 'Chief Engineer', 'Asset Manager', 'Facility Coordinator', 'Chief Engineer', 'Asset Manager', 'Maintenance Supervisor', 'Asset Manager', 'Facility Coordinator', 'Asset Manager', 'Maintenance Supervisor', 'Asset Manager', 'Leasing Manager', 'Facility Coordinator', 'Asset Manager', 'Facility Coordinator', 'Leasing Manager', 'Facility Coordinator', 'Facility Coordinator', 'Chief Engineer', 'Chief Engineer', 'Facility Coordinator', 'Facility Coordinator', 'Chief Engineer', 'Facility Coordinator', 'Maintenance Supervisor', 'Leasing Manager', 'Maintenance Supervisor', 'Chief Engineer', 'Leasing Manager', 'Chief Engineer', 'Maintenance Supervisor', 'Asset Manager', 'Asset Manager', 'Asset Manager', 'Leasing Manager', 'Chief Engineer', 'Leasing Manager', 'Leasing Manager', 'Maintenance Supervisor', 'Chief Engineer', 'Asset Manager', 'Leasing Manager', 'Chief Engineer', 'Leasing Manager', 'Chief Engineer', 'Maintenance Supervisor', 'Maintenance Supervisor', 'Maintenance Supervisor', 'Asset Manager', 'Chief Engineer', 'Leasing Manager', 'Leasing Manager', 'Facility Coordinator', 'Facility Coordinator', 'Asset Manager', 'Maintenance Supervisor', 'Asset Manager', 'Facility Coordinator', 'Maintenance Supervisor', 'Asset Manager', 'Chief Engineer', 'Chief Engineer', 'Leasing Manager', 'Facility Coordinator', 'Leasing Manager', 'Leasing Manager', 'Maintenance Supervisor', 'Chief Engineer', 'Leasing Manager', 'Leasing Manager', 'Asset Manager', 'Facility Coordinator', 'Maintenance Supervisor', 'Facility Coordinator', 'Chief Engineer', 'Facility Coordinator', 'Facility Coordinator', 'Chief Engineer', 'Asset Manager', 'Chief Engineer', 'Maintenance Supervisor', 'Facility Coordinator', 'Chief Engineer', 'Chief Engineer', 'Asset Manager', 'Facility Coordinator', 'Maintenance Supervisor', 'Chief Engineer', 'Chief Engineer', 'Leasing Manager', 'Maintenance Supervisor', 'Facility Coordinator', 'Facility Coordinator', 'Maintenance Supervisor', 'Leasing Manager', 'Leasing Manager', 'Facility Coordinator', 'Facility Coordinator', 'Asset Manager', 'Maintenance Supervisor', 'Maintenance Supervisor', 'Asset Manager', 'Leasing Manager', 'Facility Coordinator', 'Facility Coordinator', 'Leasing Manager', 'Maintenance Supervisor', 'Maintenance Supervisor', 'Chief Engineer', 'Maintenance Supervisor', 'Chief Engineer', 'Asset Manager', 'Maintenance Supervisor', 'Facility Coordinator', 'Asset Manager', 'Maintenance Supervisor', 'Maintenance Supervisor', 'Leasing Manager', 'Maintenance Supervisor', 'Maintenance Supervisor', 'Chief Engineer', 'Asset Manager', 'Asset Manager', 'Chief Engineer', 'Leasing Manager', 'Asset Manager', 'Chief Engineer', 'Leasing Manager', 'Chief Engineer', 'Maintenance Supervisor', 'Facility Coordinator', 'Chief Engineer', 'Leasing Manager', 'Leasing Manager', 'Leasing Manager', 'Leasing Manager', 'Facility Coordinator', 'Facility Coordinator', 'Facility Coordinator', 'Asset Manager', 'Leasing Manager', 'Maintenance Supervisor', 'Leasing Manager', 'Asset Manager', 'Chief Engineer', 'Facility Coordinator', 'Chief Engineer', 'Asset Manager', 'Leasing Manager', 'Asset Manager', 'Asset Manager', 'Maintenance Supervisor', 'Asset Manager', 'Chief Engineer', 'Asset Manager', 'Chief Engineer', 'Chief Engineer', 'Maintenance Supervisor', 'Leasing Manager', 'Asset Manager', 'Facility Coordinator', 'Leasing Manager', 'Chief Engineer', 'Chief Engineer', 'Maintenance Supervisor', 'Chief Engineer', 'Leasing Manager', 'Facility Coordinator', 'Chief Engineer', 'Maintenance Supervisor', 'Maintenance Supervisor', 'Maintenance Supervisor', 'Asset Manager', 'Chief Engineer', 'Maintenance Supervisor', 'Chief Engineer', 'Leasing Manager', 'Chief Engineer', 'Leasing Manager', 'Facility Coordinator', 'Asset Manager', 'Facility Coordinator', 'Asset Manager', 'Maintenance Supervisor', 'Asset Manager', 'Facility Coordinator', 'Maintenance Supervisor', 'Asset Manager', 'Chief Engineer', 'Maintenance Supervisor', 'Facility Coordinator', 'Asset Manager', 'Facility Coordinator', 'Facility Coordinator', 'Facility Coordinator', 'Asset Manager', 'Chief Engineer', 'Chief Engineer', 'Chief Engineer', 'Maintenance Supervisor', 'Maintenance Supervisor', 'Asset Manager', 'Chief Engineer', 'Chief Engineer', 'Facility Coordinator', 'Facility Coordinator', 'Facility Coordinator', 'Leasing Manager', 'Asset Manager', 'Chief Engineer', 'Facility Coordinator', 'Asset Manager', 'Chief Engineer', 'Chief Engineer', 'Chief Engineer', 'Asset Manager', 'Chief Engineer', 'Maintenance Supervisor', 'Chief Engineer', 'Chief Engineer', 'Asset Manager', 'Asset Manager', 'Asset Manager', 'Leasing Manager', 'Maintenance Supervisor', 'Maintenance Supervisor', 'Maintenance Supervisor', 'Leasing Manager', 'Chief Engineer', 'Facility Coordinator', 'Asset Manager', 'Chief Engineer', 'Maintenance Supervisor', 'Asset Manager', 'Chief Engineer', 'Leasing Manager', 'Maintenance Supervisor', 'Maintenance Supervisor', 'Facility Coordinator', 'Asset Manager', 'Asset Manager', 'Facility Coordinator', 'Chief Engineer', 'Asset Manager', 'Asset Manager', 'Asset Manager', 'Asset Manager', 'Maintenance Supervisor', 'Leasing Manager', 'Facility Coordinator', 'Leasing Manager', 'Leasing Manager', 'Maintenance Supervisor', 'Maintenance Supervisor', 'Chief Engineer', 'Facility Coordinator', 'Facility Coordinator', 'Asset Manager', 'Leasing Manager', 'Leasing Manager', 'Facility Coordinator', 'Maintenance Supervisor', 'Facility Coordinator', 'Asset Manager', 'Chief Engineer', 'Asset Manager', 'Chief Engineer', 'Maintenance Supervisor', 'Asset Manager', 'Chief Engineer', 'Leasing Manager', 'Facility Coordinator', 'Chief Engineer', 'Leasing Manager', 'Leasing Manager', 'Chief Engineer', 'Leasing Manager', 'Chief Engineer', 'Leasing Manager', 'Facility Coordinator', 'Maintenance Supervisor', 'Facility Coordinator', 'Facility Coordinator', 'Facility Coordinator', 'Maintenance Supervisor', 'Asset Manager', 'Asset Manager', 'Asset Manager', 'Leasing Manager', 'Chief Engineer', 'Maintenance Supervisor', 'Asset Manager', 'Chief Engineer', 'Facility Coordinator', 'Maintenance Supervisor', 'Facility Coordinator', 'Facility Coordinator', 'Chief Engineer', 'Facility Coordinator', 'Maintenance Supervisor', 'Chief Engineer', 'Asset Manager', 'Asset Manager', 'Leasing Manager', 'Asset Manager', 'Facility Coordinator', 'Asset Manager', 'Maintenance Supervisor', 'Leasing Manager', 'Leasing Manager', 'Asset Manager', 'Chief Engineer', 'Leasing Manager', 'Asset Manager', 'Facility Coordinator', 'Asset Manager', 'Facility Coordinator', 'Facility Coordinator', 'Maintenance Supervisor', 'Chief Engineer', 'Leasing Manager', 'Chief Engineer', 'Leasing Manager', 'Chief Engineer', 'Chief Engineer', 'Asset Manager', 'Chief Engineer', 'Asset Manager', 'Facility Coordinator', 'Leasing Manager', 'Maintenance Supervisor', 'Leasing Manager', 'Maintenance Supervisor', 'Chief Engineer', 'Asset Manager', 'Asset Manager', 'Facility Coordinator', 'Leasing Manager', 'Maintenance Supervisor', 'Facility Coordinator', 'Maintenance Supervisor', 'Chief Engineer', 'Facility Coordinator', 'Leasing Manager', 'Asset Manager', 'Facility Coordinator', 'Leasing Manager', 'Leasing Manager', 'Chief Engineer', 'Chief Engineer', 'Asset Manager', 'Facility Coordinator', 'Chief Engineer', 'Facility Coordinator', 'Chief Engineer', 'Asset Manager', 'Chief Engineer', 'Chief Engineer', 'Chief Engineer', 'Facility Coordinator', 'Leasing Manager', 'Facility Coordinator', 'Facility Coordinator', 'Facility Coordinator', 'Asset Manager', 'Chief Engineer', 'Chief Engineer', 'Facility Coordinator', 'Chief Engineer', 'Leasing Manager', 'Maintenance Supervisor', 'Maintenance Supervisor', 'Leasing Manager', 'Chief Engineer', 'Asset Manager', 'Chief Engineer', 'Leasing Manager', 'Asset Manager', 'Facility Coordinator', 'Leasing Manager', 'Leasing Manager', 'Facility Coordinator', 'Chief Engineer', 'Asset Manager', 'Asset Manager', 'Asset Manager', 'Maintenance Supervisor', 'Facility Coordinator', 'Facility Coordinator', 'Facility Coordinator', 'Leasing Manager', 'Maintenance Supervisor', 'Leasing Manager', 'Asset Manager', 'Maintenance Supervisor', 'Leasing Manager', 'Chief Engineer', 'Chief Engineer', 'Leasing Manager', 'Maintenance Supervisor', 'Maintenance Supervisor', 'Asset Manager', 'Maintenance Supervisor', 'Leasing Manager', 'Facility Coordinator', 'Maintenance Supervisor', 'Asset Manager', 'Leasing Manager', 'Asset Manager', 'Leasing Manager', 'Asset Manager', 'Facility Coordinator', 'Asset Manager', 'Facility Coordinator', 'Maintenance Supervisor', 'Facility Coordinator', 'Facility Coordinator', 'Chief Engineer', 'Facility Coordinator', 'Maintenance Supervisor', 'Chief Engineer', 'Leasing Manager', 'Asset Manager', 'Maintenance Supervisor', 'Chief Engineer', 'Leasing Manager', 'Facility Coordinator', 'Maintenance Supervisor', 'Leasing Manager', 'Leasing Manager', 'Maintenance Supervisor', 'Asset Manager', 'Chief Engineer', 'Chief Engineer', 'Facility Coordinator', 'Asset Manager', 'Leasing Manager', 'Asset Manager', 'Chief Engineer', 'Asset Manager', 'Chief Engineer', 'Asset Manager', 'Facility Coordinator', 'Asset Manager', 'Facility Coordinator', 'Facility Coordinator', 'Leasing Manager', 'Maintenance Supervisor', 'Maintenance Supervisor', 'Leasing Manager', 'Facility Coordinator', 'Facility Coordinator', 'Facility Coordinator', 'Chief Engineer', 'Facility Coordinator', 'Facility Coordinator', 'Facility Coordinator', 'Leasing Manager', 'Leasing Manager', 'Chief Engineer', 'Leasing Manager', 'Facility Coordinator', 'Facility Coordinator', 'Asset Manager', 'Maintenance Supervisor', 'Asset Manager', 'Maintenance Supervisor', 'Asset Manager', 'Asset Manager', 'Facility Coordinator', 'Chief Engineer', 'Chief Engineer', 'Asset Manager', 'Asset Manager', 'Chief Engineer', 'Asset Manager', 'Chief Engineer', 'Chief Engineer', 'Chief Engineer', 'Maintenance Supervisor', 'Chief Engineer', 'Chief Engineer', 'Maintenance Supervisor', 'Chief Engineer', 'Chief Engineer', 'Leasing Manager', 'Facility Coordinator', 'Chief Engineer', 'Asset Manager', 'Leasing Manager', 'Facility Coordinator', 'Maintenance Supervisor', 'Asset Manager', 'Asset Manager', 'Leasing Manager', 'Chief Engineer', 'Chief Engineer', 'Chief Engineer', 'Maintenance Supervisor', 'Asset Manager', 'Maintenance Supervisor', 'Leasing Manager', 'Facility Coordinator', 'Facility Coordinator', 'Facility Coordinator', 'Asset Manager', 'Leasing Manager', 'Facility Coordinator', 'Chief Engineer', 'Facility Coordinator', 'Facility Coordinator', 'Leasing Manager', 'Leasing Manager', 'Maintenance Supervisor', 'Chief Engineer', 'Facility Coordinator', 'Facility Coordinator', 'Maintenance Supervisor', 'Chief Engineer', 'Facility Coordinator', 'Maintenance Supervisor', 'Maintenance Supervisor', 'Facility Coordinator', 'Facility Coordinator', 'Asset Manager', 'Facility Coordinator', 'Maintenance Supervisor', 'Maintenance Supervisor', 'Facility Coordinator', 'Asset Manager', 'Asset Manager', 'Asset Manager', 'Maintenance Supervisor', 'Maintenance Supervisor', 'Facility Coordinator', 'Maintenance Supervisor', 'Leasing Manager', 'Maintenance Supervisor', 'Chief Engineer', 'Asset Manager', 'Asset Manager', 'Maintenance Supervisor', 'Maintenance Supervisor', 'Chief Engineer', 'Leasing Manager', 'Chief Engineer', 'Asset Manager', 'Asset Manager', 'Leasing Manager', 'Maintenance Supervisor', 'Leasing Manager', 'Leasing Manager', 'Asset Manager', 'Maintenance Supervisor', 'Facility Coordinator', 'Leasing Manager', 'Facility Coordinator', 'Maintenance Supervisor', 'Leasing Manager', 'Chief Engineer', 'Asset Manager', 'Leasing Manager', 'Facility Coordinator', 'Asset Manager', 'Leasing Manager', 'Chief Engineer', 'Asset Manager', 'Leasing Manager', 'Maintenance Supervisor', 'Maintenance Supervisor', 'Facility Coordinator', 'Facility Coordinator', 'Maintenance Supervisor', 'Chief Engineer', 'Leasing Manager', 'Leasing Manager', 'Asset Manager', 'Facility Coordinator', 'Leasing Manager', 'Asset Manager', 'Facility Coordinator', 'Asset Manager', 'Asset Manager', 'Asset Manager', 'Maintenance Supervisor', 'Chief Engineer', 'Leasing Manager', 'Maintenance Supervisor', 'Maintenance Supervisor', 'Asset Manager', 'Chief Engineer', 'Asset Manager', 'Leasing Manager', 'Chief Engineer', 'Facility Coordinator', 'Maintenance Supervisor', 'Maintenance Supervisor', 'Asset Manager', 'Chief Engineer', 'Maintenance Supervisor', 'Asset Manager', 'Chief Engineer', 'Leasing Manager', 'Chief Engineer', 'Maintenance Supervisor', 'Maintenance Supervisor', 'Chief Engineer', 'Maintenance Supervisor', 'Facility Coordinator', 'Asset Manager', 'Chief Engineer', 'Facility Coordinator', 'Asset Manager', 'Maintenance Supervisor', 'Facility Coordinator', 'Leasing Manager', 'Chief Engineer', 'Leasing Manager', 'Maintenance Supervisor', 'Leasing Manager', 'Facility Coordinator', 'Maintenance Supervisor', 'Facility Coordinator', 'Asset Manager', 'Facility Coordinator', 'Maintenance Supervisor', 'Leasing Manager', 'Asset Manager', 'Maintenance Supervisor', 'Asset Manager', 'Facility Coordinator', 'Maintenance Supervisor', 'Maintenance Supervisor', 'Maintenance Supervisor', 'Asset Manager', 'Leasing Manager', 'Maintenance Supervisor', 'Facility Coordinator', 'Chief Engineer', 'Asset Manager', 'Maintenance Supervisor', 'Asset Manager', 'Chief Engineer', 'Asset Manager', 'Chief Engineer', 'Asset Manager', 'Facility Coordinator', 'Facility Coordinator', 'Leasing Manager', 'Leasing Manager', 'Chief Engineer', 'Maintenance Supervisor', 'Maintenance Supervisor', 'Leasing Manager', 'Asset Manager', 'Maintenance Supervisor', 'Maintenance Supervisor', 'Facility Coordinator', 'Maintenance Supervisor', 'Asset Manager', 'Facility Coordinator', 'Leasing Manager', 'Leasing Manager', 'Asset Manager', 'Maintenance Supervisor', 'Asset Manager', 'Facility Coordinator', 'Asset Manager', 'Leasing Manager', 'Facility Coordinator', 'Asset Manager', 'Leasing Manager', 'Maintenance Supervisor', 'Facility Coordinator', 'Maintenance Supervisor', 'Asset Manager', 'Facility Coordinator', 'Leasing Manager', 'Asset Manager', 'Maintenance Supervisor', 'Asset Manager', 'Asset Manager', 'Maintenance Supervisor', 'Maintenance Supervisor', 'Technician', 'Leasing Manager', 'Facility Coordinator', 'Chief Engineer', 'Asset Manager', 'Chief Engineer', 'Technician', 'Technician', 'Facility Coordinator', 'Chief Engineer', 'Leasing Manager', 'Chief Engineer', 'Building manger', 'Asset Manager', 'Account Director', 'Account Director', 'Technician', 'Asset Manager', 'Facility Coordinator', 'Building manger', 'Asset Manager', 'Asset Manager', 'Leasing Manager', 'Technician', 'Technician', 'Building manger', 'Facility Coordinator', 'Leasing Manager', 'Maintenance Supervisor', 'Maintenance Supervisor', 'Maintenance Supervisor', 'Leasing Manager', 'Building manger', 'Building manger', 'Account Director', 'Facilities Coordinator', 'Leasing Manager', 'Chief Engineer', 'Chief Engineer', 'Chief Engineer', 'Facility Coordinator', 'Asset Manager', 'Chief Engineer', 'Maintenance Supervisor', 'Maintenance Supervisor', 'Building manger', 'Technician', 'Building manger', 'Maintenance Supervisor', 'Building manger', 'Facility Coordinator', 'Chief Engineer', 'Account Director', 'Leasing Manager', 'Facility Coordinator', 'Account Director', 'Facility Coordinator', 'Facilities Coordinator', 'Facility Coordinator', 'Facility Coordinator', 'Technician', 'Maintenance Supervisor', 'Chief Engineer', 'Building manger', 'Chief Engineer', 'Building manger', 'Chief Engineer', 'Building manger', 'Asset Manager', 'Maintenance Supervisor', 'Facility Coordinator', 'Technician', 'Facility Coordinator', 'Chief Engineer', 'Leasing Manager', 'Asset Manager', 'Building manger', 'Maintenance Supervisor', 'Building manger', 'Leasing Manager', 'Facility Coordinator', 'Asset Manager', 'Asset Manager', 'Technician', 'Facilities Coordinator', 'Asset Manager', 'Facility Coordinator', 'Facilities Coordinator', 'Facility Coordinator', 'Building manger', 'Chief Engineer', 'Maintenance Supervisor', 'Chief Engineer', 'Leasing Manager', 'Facility Coordinator', 'Account Director', 'Chief Engineer', 'Facility Coordinator', 'Facilities Coordinator', 'Technician', 'Maintenance Supervisor', 'Account Director', 'Facility Coordinator', 'Chief Engineer', 'Facility Coordinator', 'Facilities Coordinator', 'Building manger', 'Technician', 'Leasing Manager', 'Facility Coordinator', 'Maintenance Supervisor', 'Chief Engineer', 'Leasing Manager', 'Asset Manager', 'Building manger', 'Leasing Manager', 'Asset Manager', 'Maintenance Supervisor', 'Chief Engineer', 'Chief Engineer', 'Asset Manager', 'Building manger', 'Technician', 'Leasing Manager', 'Chief Engineer', 'Building manger', 'Facility Coordinator', 'Facility Coordinator', 'Building manger', 'Leasing Manager', 'Chief Engineer', 'Maintenance Supervisor', 'Facilities Coordinator', 'Leasing Manager', 'Facility Coordinator', 'Leasing Manager', 'Maintenance Supervisor', 'Chief Engineer', 'Facility Coordinator', 'Building manger', 'Asset Manager', 'Facilities Coordinator', 'Technician', 'Facility Coordinator', 'Facility Coordinator', 'Building manger', 'Building manger', 'Facility Coordinator', 'Building manger', 'Asset Manager', 'Leasing Manager', 'Facility Coordinator', 'Leasing Manager', 'Maintenance Supervisor', 'Chief Engineer', 'Technician', 'Maintenance Supervisor', 'Facility Coordinator', 'Building manger', 'Building manger', 'Technician', 'Building manger', 'Facility Coordinator', 'Facilities Coordinator', 'Asset Manager', 'Facility Coordinator', 'Technician', 'Technician', 'Maintenance Supervisor', 'Building manger', 'Chief Engineer', 'Building manger', 'Leasing Manager', 'Building manger', 'Technician', 'Maintenance Supervisor', 'Chief Engineer', 'Account Director', 'Facility Coordinator', 'Building manger', 'Building manger', 'Asset Manager', 'Maintenance Supervisor', 'Asset Manager', 'Technician', 'Leasing Manager', 'Maintenance Supervisor', 'Facility Coordinator', 'Building manger', 'Chief Engineer', 'Technician', 'Chief Engineer', 'Leasing Manager', 'Building manger', 'Maintenance Supervisor', 'Leasing Manager', 'Technician', 'Technician', 'Account Director', 'Building manger', 'Chief Engineer', 'Technician', 'Leasing Manager', 'Facility Coordinator', 'Maintenance Supervisor', 'Chief Engineer', 'Facility Coordinator', 'Leasing Manager', 'Facility Coordinator', 'Asset Manager', 'Leasing Manager', 'Leasing Manager', 'Facility Coordinator', 'Account Director', 'Chief Engineer', 'Maintenance Supervisor', 'Maintenance Supervisor', 'Technician', 'Account Director', 'Asset Manager', 'Facility Coordinator', 'Chief Engineer', 'Building manger', 'Technician', 'Chief Engineer', 'Asset Manager', 'Leasing Manager', 'Facility Coordinator', 'Building manger', 'Chief Engineer', 'Technician', 'Chief Engineer', 'Maintenance Supervisor', 'Building manger', 'Chief Engineer', 'Facilities Coordinator', 'Asset Manager', 'Chief Engineer', 'Chief Engineer', 'Chief Engineer', 'Asset Manager', 'Chief Engineer', 'Chief Engineer', 'Technician', 'Leasing Manager', 'Chief Engineer', 'Leasing Manager', 'Technician', 'Facility Coordinator', 'Maintenance Supervisor', 'Leasing Manager', 'Facility Coordinator', 'Building manger', 'Chief Engineer', 'Building manger', 'Leasing Manager', 'Chief Engineer', 'Building manger', 'Technician', 'Chief Engineer', 'Asset Manager', 'Technician', 'Account Director', 'Maintenance Supervisor', 'Asset Manager', 'Chief Engineer', 'Chief Engineer', 'Leasing Manager', 'Asset Manager', 'Facility Coordinator', 'Asset Manager', 'Facility Coordinator', 'Building manger', 'Asset Manager', 'Technician', 'Asset Manager', 'Asset Manager', 'Technician', 'Chief Engineer', 'Leasing Manager', 'Maintenance Supervisor', 'Asset Manager', 'Chief Engineer', 'Building manger', 'Chief Engineer', 'Maintenance Supervisor', 'Facility Coordinator', 'Asset Manager', 'Building manger', 'Facilities Coordinator', 'Leasing Manager', 'Asset Manager', 'Chief Engineer', 'Facility Coordinator', 'Leasing Manager', 'Maintenance Supervisor', 'Maintenance Supervisor', 'Asset Manager', 'Chief Engineer', 'Technician']\n"
          ]
        }
      ]
    },
    {
      "cell_type": "code",
      "metadata": {
        "colab": {
          "base_uri": "https://localhost:8080/"
        },
        "id": "u1HTkBLIOBjf",
        "outputId": "290291c1-6284-4f99-9bd8-d11686277338"
      },
      "source": [
        "# finding the close match for the movie name given by the user\n",
        "\n",
        "find_close_match = difflib.get_close_matches(name, list_of_all_titles, n = 5, cutoff = 0.1)\n",
        "print(find_close_match)"
      ],
      "execution_count": 68,
      "outputs": [
        {
          "output_type": "stream",
          "name": "stdout",
          "text": [
            "['Technician', 'Technician', 'Technician', 'Technician', 'Technician']\n"
          ]
        }
      ]
    },
    {
      "cell_type": "code",
      "metadata": {
        "colab": {
          "base_uri": "https://localhost:8080/"
        },
        "id": "CgiC-enuOfXx",
        "outputId": "8c10ade4-df0b-46c1-ce33-7e96a327519b"
      },
      "source": [
        "close_match = find_close_match[0]\n",
        "print(close_match)"
      ],
      "execution_count": 69,
      "outputs": [
        {
          "output_type": "stream",
          "name": "stdout",
          "text": [
            "Technician\n"
          ]
        }
      ]
    },
    {
      "cell_type": "code",
      "metadata": {
        "colab": {
          "base_uri": "https://localhost:8080/"
        },
        "id": "CNXJfY-FOw1I",
        "outputId": "d8f5f5ae-213a-4ad1-9b4f-c69b33029150"
      },
      "source": [
        "# finding the index of the similar insights\n",
        "\n",
        "index_of_the_movie = data[data.Roles == close_match]['Index'].values\n",
        "print(index_of_the_movie)"
      ],
      "execution_count": 70,
      "outputs": [
        {
          "output_type": "stream",
          "name": "stdout",
          "text": [
            "[1001 1007 1008 1017 1024 1025 1047 1061 1072 1084 1100 1108 1123 1143\n",
            " 1156 1161 1167 1168 1175 1185 1191 1197 1198 1202 1218 1224 1231 1244\n",
            " 1248 1259 1262 1275 1278 1300]\n"
          ]
        }
      ]
    },
    {
      "cell_type": "code",
      "source": [
        "for index1 in index_of_the_movie:\n",
        "  #print(index1)\n",
        "  print(data['Driver'][index1-1])"
      ],
      "metadata": {
        "colab": {
          "base_uri": "https://localhost:8080/"
        },
        "id": "g4iogQn7CDyl",
        "outputId": "02b4373a-d713-4382-82be-03b68e1f50c8"
      },
      "execution_count": 71,
      "outputs": [
        {
          "output_type": "stream",
          "name": "stdout",
          "text": [
            "Frequent elevator breakdowns\n",
            "Lack of nearby public transport\n",
            "Lack of nearby public transport\n",
            "Non-ADA compliant areas\n",
            "Lack of nearby public transport\n",
            "Frequent elevator breakdowns\n",
            "Lack of nearby public transport\n",
            "Frequent elevator breakdowns\n",
            "Lack of nearby public transport\n",
            "Non-ADA compliant areas\n",
            "Non-ADA compliant areas\n",
            "Lack of nearby public transport\n",
            "Frequent elevator breakdowns\n",
            "Frequent elevator breakdowns\n",
            "Lack of nearby public transport\n",
            "Non-ADA compliant areas\n",
            "Non-ADA compliant areas\n",
            "Non-ADA compliant areas\n",
            "Frequent elevator breakdowns\n",
            "Non-ADA compliant areas\n",
            "Lack of nearby public transport\n",
            "Frequent elevator breakdowns\n",
            "Frequent elevator breakdowns\n",
            "Lack of nearby public transport\n",
            "Non-ADA compliant areas\n",
            "Frequent elevator breakdowns\n",
            "Lack of nearby public transport\n",
            "Frequent elevator breakdowns\n",
            "Non-ADA compliant areas\n",
            "Lack of nearby public transport\n",
            "Non-ADA compliant areas\n",
            "Non-ADA compliant areas\n",
            "Frequent elevator breakdowns\n",
            "Non-ADA compliant areas\n"
          ]
        }
      ]
    },
    {
      "cell_type": "code",
      "metadata": {
        "colab": {
          "base_uri": "https://localhost:8080/"
        },
        "id": "dyUeQZpvPbkx",
        "outputId": "8c97bf90-76e6-486f-f7aa-236e668c04aa"
      },
      "source": [
        "# getting a list of similar insights\n",
        "\n",
        "similarity_score = list(enumerate(similarity[index_of_the_movie[0]]))\n",
        "print(similarity_score)"
      ],
      "execution_count": 72,
      "outputs": [
        {
          "output_type": "stream",
          "name": "stdout",
          "text": [
            "[(0, 0.0), (1, 0.0), (2, 0.0), (3, 0.0), (4, 0.0), (5, 0.0), (6, 0.0), (7, 0.08943326869062102), (8, 0.5900031538450032), (9, 0.5900031538450032), (10, 0.11211176267735667), (11, 0.0), (12, 0.20752100110292374), (13, 0.0), (14, 0.0), (15, 0.2110822939919808), (16, 0.20752100110292374), (17, 0.1094995404906161), (18, 1.0000000000000002), (19, 0.0), (20, 0.11147275374792427), (21, 0.0), (22, 0.0), (23, 0.0), (24, 0.7689437353078445), (25, 0.11211176267735667), (26, 0.10852255383031433), (27, 0.0), (28, 0.10729505874069185), (29, 0.11147275374792427), (30, 0.0), (31, 0.0), (32, 0.0), (33, 0.0), (34, 0.18923240792459853), (35, 0.0), (36, 0.20752100110292374), (37, 0.1094995404906161), (38, 0.2110822939919808), (39, 0.5900031538450032), (40, 0.20752100110292374), (41, 0.0), (42, 0.10852255383031433), (43, 0.08943326869062102), (44, 0.10729505874069185), (45, 0.0), (46, 0.0), (47, 0.0), (48, 0.10729505874069185), (49, 0.20752100110292374), (50, 0.0), (51, 0.08943326869062102), (52, 0.0), (53, 0.2110822939919808), (54, 0.0), (55, 0.20752100110292374), (56, 0.0), (57, 0.0), (58, 0.0), (59, 0.0), (60, 0.11147275374792427), (61, 0.0), (62, 0.5900031538450032), (63, 0.0), (64, 0.7689437353078445), (65, 0.2110822939919808), (66, 0.0), (67, 0.0), (68, 0.10852255383031433), (69, 0.0), (70, 0.0), (71, 0.5900031538450032), (72, 0.10729505874069185), (73, 0.0), (74, 1.0000000000000002), (75, 0.0), (76, 0.11211176267735667), (77, 0.08943326869062102), (78, 0.20752100110292374), (79, 0.7314009072745772), (80, 0.0), (81, 0.18923240792459853), (82, 0.0), (83, 0.0), (84, 0.0), (85, 0.0), (86, 0.0), (87, 0.18923240792459853), (88, 0.0), (89, 0.0), (90, 0.5900031538450032), (91, 0.0), (92, 0.10852255383031433), (93, 0.0), (94, 0.10729505874069185), (95, 0.5900031538450032), (96, 0.0), (97, 0.0), (98, 0.0), (99, 0.20752100110292374), (100, 0.10852255383031433), (101, 0.0), (102, 0.08943326869062102), (103, 0.5900031538450032), (104, 0.0), (105, 0.0), (106, 0.0), (107, 1.0000000000000002), (108, 0.0), (109, 0.5900031538450032), (110, 0.0), (111, 0.0), (112, 0.0), (113, 0.20752100110292374), (114, 0.0), (115, 0.0), (116, 0.0), (117, 0.0), (118, 0.7314009072745772), (119, 0.11147275374792427), (120, 0.20752100110292374), (121, 0.0), (122, 0.0), (123, 0.7314009072745772), (124, 0.08943326869062102), (125, 0.0), (126, 0.0), (127, 0.0), (128, 0.0), (129, 0.0), (130, 0.0), (131, 0.0), (132, 0.0), (133, 0.0), (134, 0.0), (135, 0.18923240792459853), (136, 0.0), (137, 1.0000000000000002), (138, 0.18923240792459853), (139, 0.11147275374792427), (140, 0.10729505874069185), (141, 0.11147275374792427), (142, 0.0), (143, 0.0), (144, 0.0), (145, 0.2110822939919808), (146, 0.0), (147, 0.2110822939919808), (148, 0.0), (149, 0.0), (150, 0.7314009072745772), (151, 0.0), (152, 0.0), (153, 0.0), (154, 0.0), (155, 0.0), (156, 0.10852255383031433), (157, 0.0), (158, 0.0), (159, 0.0), (160, 0.20752100110292374), (161, 0.0), (162, 0.5900031538450032), (163, 1.0000000000000002), (164, 0.1094995404906161), (165, 1.0000000000000002), (166, 0.0), (167, 0.20752100110292374), (168, 0.0), (169, 0.0), (170, 0.2110822939919808), (171, 0.18923240792459853), (172, 0.0), (173, 0.0), (174, 0.0), (175, 0.0), (176, 0.7314009072745772), (177, 0.1094995404906161), (178, 0.0), (179, 0.0), (180, 0.10852255383031433), (181, 0.0), (182, 0.0), (183, 0.7314009072745772), (184, 0.18923240792459853), (185, 0.18923240792459853), (186, 0.0), (187, 0.0), (188, 0.11147275374792427), (189, 0.10852255383031433), (190, 0.20752100110292374), (191, 0.0), (192, 0.1094995404906161), (193, 0.0), (194, 0.18923240792459853), (195, 0.7314009072745772), (196, 0.0), (197, 0.10852255383031433), (198, 0.0), (199, 0.0), (200, 0.0), (201, 0.08943326869062102), (202, 0.0), (203, 0.2110822939919808), (204, 0.0), (205, 0.1094995404906161), (206, 0.0), (207, 0.20752100110292374), (208, 0.0), (209, 0.10852255383031433), (210, 0.0), (211, 0.10852255383031433), (212, 0.0), (213, 0.10852255383031433), (214, 0.11147275374792427), (215, 0.0), (216, 0.0), (217, 0.20752100110292374), (218, 0.0), (219, 0.0), (220, 0.2110822939919808), (221, 0.0), (222, 0.20752100110292374), (223, 0.0), (224, 0.7314009072745772), (225, 0.0), (226, 0.18923240792459853), (227, 0.10729505874069185), (228, 0.5900031538450032), (229, 0.20752100110292374), (230, 0.0), (231, 0.0), (232, 0.0), (233, 0.11211176267735667), (234, 0.0), (235, 0.0), (236, 0.0), (237, 0.0), (238, 0.5900031538450032), (239, 0.7314009072745772), (240, 0.0), (241, 0.0), (242, 0.0), (243, 0.0), (244, 0.0), (245, 0.0), (246, 0.08943326869062102), (247, 0.10852255383031433), (248, 0.7689437353078445), (249, 0.7689437353078445), (250, 0.7314009072745772), (251, 0.11147275374792427), (252, 0.11147275374792427), (253, 0.10729505874069185), (254, 0.0), (255, 0.0), (256, 0.10852255383031433), (257, 0.1094995404906161), (258, 0.0), (259, 0.0), (260, 0.11211176267735667), (261, 0.0), (262, 0.0), (263, 0.7314009072745772), (264, 0.0), (265, 0.08943326869062102), (266, 0.7689437353078445), (267, 0.5900031538450032), (268, 0.0), (269, 0.0), (270, 0.0), (271, 0.20752100110292374), (272, 0.18923240792459853), (273, 0.5900031538450032), (274, 0.5900031538450032), (275, 0.2110822939919808), (276, 0.10729505874069185), (277, 0.5900031538450032), (278, 0.0), (279, 0.0), (280, 0.0), (281, 0.11211176267735667), (282, 0.1094995404906161), (283, 0.0), (284, 0.0), (285, 0.7314009072745772), (286, 0.0), (287, 0.0), (288, 0.0), (289, 0.0), (290, 0.0), (291, 0.5900031538450032), (292, 0.0), (293, 0.2110822939919808), (294, 0.0), (295, 0.0), (296, 0.0), (297, 0.0), (298, 0.2110822939919808), (299, 0.0), (300, 0.5900031538450032), (301, 0.0), (302, 0.0), (303, 0.2110822939919808), (304, 0.0), (305, 0.2110822939919808), (306, 0.0), (307, 0.0), (308, 0.5900031538450032), (309, 0.0), (310, 0.0), (311, 0.0), (312, 0.0), (313, 0.0), (314, 0.5900031538450032), (315, 1.0000000000000002), (316, 0.11211176267735667), (317, 0.0), (318, 0.0), (319, 0.0), (320, 0.0), (321, 0.10729505874069185), (322, 0.0), (323, 0.0), (324, 0.0), (325, 0.0), (326, 0.0), (327, 0.7689437353078445), (328, 0.0), (329, 0.0), (330, 0.0), (331, 0.7314009072745772), (332, 0.0), (333, 0.0), (334, 0.0), (335, 0.0), (336, 0.0), (337, 0.0), (338, 0.0), (339, 0.0), (340, 0.1094995404906161), (341, 1.0000000000000002), (342, 0.10729505874069185), (343, 0.10852255383031433), (344, 0.5900031538450032), (345, 0.0), (346, 0.11147275374792427), (347, 0.0), (348, 0.0), (349, 0.0), (350, 1.0000000000000002), (351, 0.0), (352, 0.18923240792459853), (353, 0.5900031538450032), (354, 0.0), (355, 0.0), (356, 0.0), (357, 0.18923240792459853), (358, 0.10852255383031433), (359, 0.7314009072745772), (360, 0.0), (361, 0.1094995404906161), (362, 0.2110822939919808), (363, 0.1094995404906161), (364, 0.0), (365, 0.0), (366, 0.7689437353078445), (367, 1.0000000000000002), (368, 0.0), (369, 0.0), (370, 0.0), (371, 0.11147275374792427), (372, 0.0), (373, 0.0), (374, 0.1094995404906161), (375, 0.0), (376, 0.11211176267735667), (377, 0.0), (378, 0.7689437353078445), (379, 0.0), (380, 0.18923240792459853), (381, 0.18923240792459853), (382, 0.0), (383, 0.0), (384, 0.7314009072745772), (385, 0.18923240792459853), (386, 0.0), (387, 0.0), (388, 0.0), (389, 0.0), (390, 0.08943326869062102), (391, 0.0), (392, 0.0), (393, 0.0), (394, 0.0), (395, 0.10852255383031433), (396, 0.11147275374792427), (397, 0.0), (398, 0.0), (399, 0.10852255383031433), (400, 0.0), (401, 0.0), (402, 0.1094995404906161), (403, 0.0), (404, 0.08943326869062102), (405, 0.7689437353078445), (406, 0.11147275374792427), (407, 0.0), (408, 0.0), (409, 0.10729505874069185), (410, 0.5900031538450032), (411, 0.5900031538450032), (412, 0.0), (413, 0.0), (414, 0.0), (415, 0.0), (416, 0.2110822939919808), (417, 0.0), (418, 0.5900031538450032), (419, 0.0), (420, 0.0), (421, 0.7689437353078445), (422, 0.2110822939919808), (423, 0.10729505874069185), (424, 0.0), (425, 0.11147275374792427), (426, 0.0), (427, 0.0), (428, 0.10729505874069185), (429, 0.0), (430, 0.0), (431, 0.11147275374792427), (432, 0.10729505874069185), (433, 0.20752100110292374), (434, 0.0), (435, 0.10729505874069185), (436, 0.0), (437, 0.0), (438, 0.0), (439, 0.08943326869062102), (440, 0.18923240792459853), (441, 0.0), (442, 0.10852255383031433), (443, 1.0000000000000002), (444, 0.08943326869062102), (445, 0.11147275374792427), (446, 0.0), (447, 0.0), (448, 0.18923240792459853), (449, 0.7689437353078445), (450, 0.5900031538450032), (451, 1.0000000000000002), (452, 0.0), (453, 0.0), (454, 0.0), (455, 0.0), (456, 0.20752100110292374), (457, 0.1094995404906161), (458, 0.5900031538450032), (459, 0.0), (460, 0.11211176267735667), (461, 0.0), (462, 0.0), (463, 0.0), (464, 1.0000000000000002), (465, 0.0), (466, 0.0), (467, 0.0), (468, 0.0), (469, 0.0), (470, 0.0), (471, 0.0), (472, 0.0), (473, 0.11147275374792427), (474, 0.5900031538450032), (475, 0.0), (476, 0.0), (477, 0.7314009072745772), (478, 0.10852255383031433), (479, 0.10852255383031433), (480, 0.0), (481, 0.0), (482, 0.7314009072745772), (483, 0.0), (484, 0.0), (485, 0.10729505874069185), (486, 0.0), (487, 0.10729505874069185), (488, 0.0), (489, 0.10852255383031433), (490, 0.11147275374792427), (491, 0.10852255383031433), (492, 1.0000000000000002), (493, 0.0), (494, 1.0000000000000002), (495, 0.0), (496, 0.0), (497, 0.0), (498, 0.0), (499, 0.11147275374792427), (500, 0.0), (501, 0.0), (502, 0.10729505874069185), (503, 0.0), (504, 0.0), (505, 0.1094995404906161), (506, 0.0), (507, 0.0), (508, 0.0), (509, 0.0), (510, 0.0), (511, 0.0), (512, 0.11211176267735667), (513, 0.0), (514, 0.08943326869062102), (515, 0.0), (516, 0.0), (517, 0.0), (518, 0.0), (519, 0.10852255383031433), (520, 0.0), (521, 0.0), (522, 0.0), (523, 0.20752100110292374), (524, 0.0), (525, 0.0), (526, 0.0), (527, 0.0), (528, 0.08943326869062102), (529, 0.10852255383031433), (530, 0.11211176267735667), (531, 0.0), (532, 0.0), (533, 0.0), (534, 0.08943326869062102), (535, 0.08943326869062102), (536, 0.0), (537, 0.0), (538, 0.0), (539, 0.5900031538450032), (540, 0.2110822939919808), (541, 0.1094995404906161), (542, 0.0), (543, 1.0000000000000002), (544, 0.0), (545, 0.0), (546, 0.0), (547, 0.11211176267735667), (548, 0.0), (549, 0.0), (550, 0.0), (551, 0.7689437353078445), (552, 0.11147275374792427), (553, 0.10729505874069185), (554, 0.0), (555, 0.0), (556, 0.0), (557, 0.0), (558, 0.10852255383031433), (559, 0.0), (560, 0.0), (561, 0.0), (562, 0.0), (563, 0.1094995404906161), (564, 0.7689437353078445), (565, 0.0), (566, 0.7689437353078445), (567, 0.7689437353078445), (568, 0.0), (569, 0.0), (570, 0.0), (571, 0.0), (572, 0.0), (573, 0.0), (574, 0.7689437353078445), (575, 0.5900031538450032), (576, 0.0), (577, 0.1094995404906161), (578, 0.0), (579, 0.0), (580, 0.11211176267735667), (581, 0.0), (582, 0.08943326869062102), (583, 0.0), (584, 0.0), (585, 0.11211176267735667), (586, 0.20752100110292374), (587, 0.0), (588, 0.0), (589, 0.7314009072745772), (590, 1.0000000000000002), (591, 0.11211176267735667), (592, 0.7689437353078445), (593, 0.11211176267735667), (594, 0.18923240792459853), (595, 0.0), (596, 0.2110822939919808), (597, 0.0), (598, 0.0), (599, 0.0), (600, 0.1094995404906161), (601, 0.0), (602, 0.0), (603, 0.0), (604, 1.0000000000000002), (605, 0.11211176267735667), (606, 0.11147275374792427), (607, 0.0), (608, 0.08943326869062102), (609, 0.0), (610, 0.2110822939919808), (611, 0.0), (612, 0.0), (613, 0.0), (614, 0.0), (615, 0.1094995404906161), (616, 0.10852255383031433), (617, 0.0), (618, 0.0), (619, 0.18923240792459853), (620, 0.0), (621, 0.0), (622, 0.0), (623, 0.0), (624, 0.7689437353078445), (625, 0.7689437353078445), (626, 0.0), (627, 0.0), (628, 0.7314009072745772), (629, 0.0), (630, 0.0), (631, 0.0), (632, 0.0), (633, 0.0), (634, 0.0), (635, 0.08943326869062102), (636, 0.7689437353078445), (637, 0.0), (638, 0.18923240792459853), (639, 0.0), (640, 0.0), (641, 0.0), (642, 0.10852255383031433), (643, 0.0), (644, 0.0), (645, 0.7314009072745772), (646, 0.11147275374792427), (647, 0.7689437353078445), (648, 0.0), (649, 0.0), (650, 0.0), (651, 0.0), (652, 0.0), (653, 0.7689437353078445), (654, 0.1094995404906161), (655, 0.0), (656, 0.1094995404906161), (657, 0.0), (658, 0.0), (659, 0.7314009072745772), (660, 0.0), (661, 0.0), (662, 0.18923240792459853), (663, 0.18923240792459853), (664, 0.08943326869062102), (665, 0.11211176267735667), (666, 0.0), (667, 0.0), (668, 0.08943326869062102), (669, 0.0), (670, 0.0), (671, 0.0), (672, 0.0), (673, 0.10852255383031433), (674, 0.0), (675, 0.0), (676, 1.0000000000000002), (677, 0.0), (678, 0.0), (679, 0.0), (680, 0.0), (681, 0.0), (682, 0.0), (683, 0.0), (684, 0.11211176267735667), (685, 0.7314009072745772), (686, 0.0), (687, 0.10729505874069185), (688, 0.7689437353078445), (689, 0.0), (690, 0.0), (691, 0.0), (692, 0.20752100110292374), (693, 0.0), (694, 0.0), (695, 0.7314009072745772), (696, 0.20752100110292374), (697, 0.0), (698, 0.0), (699, 0.0), (700, 0.0), (701, 0.0), (702, 0.1094995404906161), (703, 0.0), (704, 0.0), (705, 0.0), (706, 0.5900031538450032), (707, 0.1094995404906161), (708, 0.5900031538450032), (709, 0.0), (710, 0.2110822939919808), (711, 1.0000000000000002), (712, 0.11211176267735667), (713, 0.0), (714, 0.7689437353078445), (715, 0.10729505874069185), (716, 0.0), (717, 0.0), (718, 0.2110822939919808), (719, 0.20752100110292374), (720, 0.0), (721, 0.11147275374792427), (722, 0.0), (723, 1.0000000000000002), (724, 0.0), (725, 0.18923240792459853), (726, 0.0), (727, 0.0), (728, 0.0), (729, 0.0), (730, 0.0), (731, 0.0), (732, 0.0), (733, 0.0), (734, 0.0), (735, 0.0), (736, 0.11211176267735667), (737, 0.5900031538450032), (738, 0.0), (739, 0.10729505874069185), (740, 0.08943326869062102), (741, 0.7689437353078445), (742, 0.0), (743, 0.1094995404906161), (744, 0.5900031538450032), (745, 1.0000000000000002), (746, 0.11147275374792427), (747, 0.0), (748, 0.0), (749, 0.0), (750, 0.0), (751, 0.0), (752, 0.7689437353078445), (753, 0.0), (754, 0.08943326869062102), (755, 0.0), (756, 0.0), (757, 0.0), (758, 0.0), (759, 0.0), (760, 0.0), (761, 0.0), (762, 0.18923240792459853), (763, 0.2110822939919808), (764, 0.11147275374792427), (765, 0.20752100110292374), (766, 0.0), (767, 0.0), (768, 0.0), (769, 0.10852255383031433), (770, 0.0), (771, 0.0), (772, 0.0), (773, 0.7689437353078445), (774, 0.7314009072745772), (775, 0.0), (776, 0.18923240792459853), (777, 0.0), (778, 0.0), (779, 0.0), (780, 0.0), (781, 0.0), (782, 0.0), (783, 0.0), (784, 0.0), (785, 0.0), (786, 0.0), (787, 0.11211176267735667), (788, 0.0), (789, 0.0), (790, 0.0), (791, 0.0), (792, 0.0), (793, 0.0), (794, 0.10852255383031433), (795, 0.11147275374792427), (796, 0.0), (797, 0.0), (798, 0.2110822939919808), (799, 0.0), (800, 0.08943326869062102), (801, 0.5900031538450032), (802, 0.0), (803, 0.10852255383031433), (804, 0.0), (805, 0.7689437353078445), (806, 0.0), (807, 0.0), (808, 0.0), (809, 0.0), (810, 0.20752100110292374), (811, 0.0), (812, 0.0), (813, 0.08943326869062102), (814, 0.11147275374792427), (815, 0.0), (816, 0.11147275374792427), (817, 0.7314009072745772), (818, 0.0), (819, 0.0), (820, 0.0), (821, 0.0), (822, 0.20752100110292374), (823, 0.0), (824, 0.10852255383031433), (825, 0.0), (826, 0.0), (827, 0.18923240792459853), (828, 0.7689437353078445), (829, 0.1094995404906161), (830, 0.0), (831, 0.0), (832, 0.0), (833, 0.0), (834, 0.11211176267735667), (835, 0.0), (836, 0.1094995404906161), (837, 0.10729505874069185), (838, 0.0), (839, 0.0), (840, 0.0), (841, 0.0), (842, 0.0), (843, 0.1094995404906161), (844, 0.0), (845, 0.0), (846, 0.0), (847, 0.0), (848, 0.0), (849, 0.0), (850, 0.0), (851, 0.2110822939919808), (852, 0.7314009072745772), (853, 0.10729505874069185), (854, 0.0), (855, 0.0), (856, 0.0), (857, 0.10729505874069185), (858, 0.10729505874069185), (859, 0.08943326869062102), (860, 0.18923240792459853), (861, 0.08943326869062102), (862, 0.0), (863, 0.0), (864, 0.20752100110292374), (865, 0.10729505874069185), (866, 0.5900031538450032), (867, 0.5900031538450032), (868, 0.0), (869, 0.10729505874069185), (870, 0.0), (871, 0.5900031538450032), (872, 0.0), (873, 0.11147275374792427), (874, 0.5900031538450032), (875, 0.0), (876, 0.0), (877, 0.7314009072745772), (878, 0.0), (879, 0.0), (880, 0.7314009072745772), (881, 0.0), (882, 0.0), (883, 0.5900031538450032), (884, 0.0), (885, 0.10729505874069185), (886, 0.0), (887, 0.0), (888, 0.2110822939919808), (889, 0.0), (890, 0.7314009072745772), (891, 0.7314009072745772), (892, 0.0), (893, 0.0), (894, 0.7689437353078445), (895, 0.0), (896, 0.0), (897, 0.0), (898, 0.0), (899, 0.0), (900, 0.0), (901, 0.0), (902, 0.18923240792459853), (903, 0.11147275374792427), (904, 0.1094995404906161), (905, 0.0), (906, 0.0), (907, 0.0), (908, 0.5900031538450032), (909, 0.0), (910, 0.0), (911, 0.10729505874069185), (912, 0.11147275374792427), (913, 0.0), (914, 0.0), (915, 0.2110822939919808), (916, 0.0), (917, 0.08943326869062102), (918, 0.7689437353078445), (919, 0.08943326869062102), (920, 0.0), (921, 0.11147275374792427), (922, 0.0), (923, 0.2110822939919808), (924, 0.0), (925, 0.0), (926, 0.08943326869062102), (927, 0.0), (928, 0.0), (929, 0.0), (930, 0.0), (931, 0.7689437353078445), (932, 0.11211176267735667), (933, 0.7314009072745772), (934, 0.2110822939919808), (935, 0.7314009072745772), (936, 0.0), (937, 0.1094995404906161), (938, 0.0), (939, 0.0), (940, 0.0), (941, 0.1094995404906161), (942, 1.0000000000000002), (943, 0.0), (944, 0.10729505874069185), (945, 0.0), (946, 0.0), (947, 0.0), (948, 0.11147275374792427), (949, 0.0), (950, 0.0), (951, 0.5900031538450032), (952, 0.2110822939919808), (953, 0.0), (954, 0.0), (955, 0.0), (956, 0.0), (957, 0.0), (958, 0.08943326869062102), (959, 0.0), (960, 0.10852255383031433), (961, 0.0), (962, 0.0), (963, 0.0), (964, 0.7314009072745772), (965, 0.5900031538450032), (966, 0.10852255383031433), (967, 0.11147275374792427), (968, 0.2110822939919808), (969, 0.5900031538450032), (970, 0.0), (971, 0.0), (972, 0.1094995404906161), (973, 0.0), (974, 0.1094995404906161), (975, 0.0), (976, 0.0), (977, 0.18923240792459853), (978, 0.7689437353078445), (979, 0.0), (980, 0.1094995404906161), (981, 0.0), (982, 0.0), (983, 0.0), (984, 0.20752100110292374), (985, 0.0), (986, 0.0), (987, 0.5900031538450032), (988, 0.10729505874069185), (989, 0.0), (990, 0.1094995404906161), (991, 0.0), (992, 0.0), (993, 0.20752100110292374), (994, 0.0), (995, 0.1094995404906161), (996, 0.0), (997, 0.0), (998, 0.0), (999, 0.10729505874069185), (1000, 0.0), (1001, 1.0000000000000002), (1002, 0.0), (1003, 0.0), (1004, 0.0), (1005, 0.08943326869062102), (1006, 0.0), (1007, 0.0), (1008, 0.0), (1009, 0.10852255383031433), (1010, 0.18923240792459853), (1011, 0.0), (1012, 0.0), (1013, 0.0), (1014, 0.0), (1015, 0.04501755772859379), (1016, 0.0), (1017, 0.0), (1018, 0.0), (1019, 0.0), (1020, 0.0), (1021, 0.0), (1022, 0.20752100110292374), (1023, 0.0), (1024, 0.0), (1025, 0.0), (1026, 0.0), (1027, 0.5900031538450032), (1028, 0.11147275374792427), (1029, 0.0), (1030, 0.2110822939919808), (1031, 0.20752100110292374), (1032, 0.0), (1033, 0.0), (1034, 0.04501755772859379), (1035, 0.0), (1036, 0.7689437353078445), (1037, 0.0), (1038, 0.0), (1039, 0.11211176267735667), (1040, 0.0), (1041, 0.0), (1042, 0.08943326869062102), (1043, 0.11147275374792427), (1044, 0.2110822939919808), (1045, 0.0), (1046, 0.0), (1047, 0.0), (1048, 0.0), (1049, 0.0), (1050, 0.0), (1051, 0.10852255383031433), (1052, 0.0), (1053, 0.7314009072745772), (1054, 0.0), (1055, 0.0), (1056, 0.0), (1057, 0.05655896446861264), (1058, 0.05655896446861264), (1059, 0.0), (1060, 0.0), (1061, 0.2110822939919808), (1062, 0.11211176267735667), (1063, 0.0), (1064, 0.10852255383031433), (1065, 0.0), (1066, 0.0), (1067, 0.0), (1068, 0.0), (1069, 0.2110822939919808), (1070, 0.0), (1071, 0.0), (1072, 0.0), (1073, 0.0), (1074, 0.20752100110292374), (1075, 0.0), (1076, 0.0), (1077, 0.1094995404906161), (1078, 0.0), (1079, 1.0000000000000002), (1080, 0.0), (1081, 0.0), (1082, 0.0), (1083, 0.0), (1084, 0.0), (1085, 0.0), (1086, 0.0), (1087, 0.0), (1088, 0.0), (1089, 0.0), (1090, 0.08943326869062102), (1091, 0.2110822939919808), (1092, 0.0), (1093, 0.7314009072745772), (1094, 0.0), (1095, 0.04501755772859379), (1096, 0.0), (1097, 0.0), (1098, 0.0), (1099, 0.0), (1100, 0.1094995404906161), (1101, 0.0), (1102, 0.0), (1103, 0.10852255383031433), (1104, 0.0), (1105, 0.05655896446861264), (1106, 0.0), (1107, 0.0), (1108, 1.0000000000000002), (1109, 0.0), (1110, 0.0), (1111, 0.08943326869062102), (1112, 0.7689437353078445), (1113, 0.0), (1114, 0.0), (1115, 1.0000000000000002), (1116, 0.0), (1117, 0.1094995404906161), (1118, 0.0), (1119, 0.0), (1120, 0.0), (1121, 0.0), (1122, 0.0), (1123, 0.7314009072745772), (1124, 0.0), (1125, 0.0), (1126, 0.0), (1127, 0.0), (1128, 0.0), (1129, 0.5900031538450032), (1130, 0.10852255383031433), (1131, 0.2110822939919808), (1132, 0.0), (1133, 0.18923240792459853), (1134, 0.0), (1135, 0.20752100110292374), (1136, 0.1094995404906161), (1137, 0.11211176267735667), (1138, 0.0), (1139, 0.0), (1140, 0.0), (1141, 0.0), (1142, 0.0), (1143, 0.0), (1144, 0.05655896446861264), (1145, 0.0), (1146, 0.0), (1147, 0.0), (1148, 0.0), (1149, 0.0), (1150, 0.20752100110292374), (1151, 0.0), (1152, 0.20752100110292374), (1153, 0.10729505874069185), (1154, 0.08943326869062102), (1155, 0.0), (1156, 0.1094995404906161), (1157, 0.0), (1158, 0.0), (1159, 0.0), (1160, 0.0), (1161, 0.0), (1162, 0.0), (1163, 0.05655896446861264), (1164, 0.0), (1165, 0.0), (1166, 0.0), (1167, 0.0), (1168, 0.11147275374792427), (1169, 0.0), (1170, 0.11211176267735667), (1171, 0.0), (1172, 0.7314009072745772), (1173, 0.0), (1174, 0.0), (1175, 0.11147275374792427), (1176, 0.10852255383031433), (1177, 0.0), (1178, 0.0), (1179, 0.0), (1180, 0.0), (1181, 0.0), (1182, 0.0), (1183, 0.0), (1184, 0.0), (1185, 1.0000000000000002), (1186, 0.1094995404906161), (1187, 0.0), (1188, 0.0), (1189, 0.10852255383031433), (1190, 0.0), (1191, 0.10852255383031433), (1192, 0.7314009072745772), (1193, 0.0), (1194, 0.0), (1195, 0.7314009072745772), (1196, 0.0), (1197, 0.0), (1198, 0.0), (1199, 0.0), (1200, 0.0), (1201, 0.0), (1202, 0.5900031538450032), (1203, 0.0), (1204, 0.10729505874069185), (1205, 0.11211176267735667), (1206, 0.0), (1207, 0.5900031538450032), (1208, 0.0), (1209, 0.0), (1210, 1.0000000000000002), (1211, 0.20752100110292374), (1212, 0.0), (1213, 0.0), (1214, 0.0), (1215, 0.10729505874069185), (1216, 0.11147275374792427), (1217, 0.0), (1218, 0.0), (1219, 0.0), (1220, 0.0), (1221, 0.0), (1222, 0.0), (1223, 0.0), (1224, 0.0), (1225, 0.0), (1226, 0.20752100110292374), (1227, 0.0), (1228, 0.0), (1229, 0.10852255383031433), (1230, 0.0), (1231, 0.11211176267735667), (1232, 0.2110822939919808), (1233, 0.0), (1234, 0.11211176267735667), (1235, 0.05655896446861264), (1236, 0.0), (1237, 0.0), (1238, 0.11211176267735667), (1239, 0.0), (1240, 0.0), (1241, 0.0), (1242, 0.0), (1243, 0.0), (1244, 0.20752100110292374), (1245, 0.10852255383031433), (1246, 0.20752100110292374), (1247, 0.0), (1248, 0.0), (1249, 0.11147275374792427), (1250, 0.20752100110292374), (1251, 0.0), (1252, 0.0), (1253, 0.0), (1254, 0.0), (1255, 0.7314009072745772), (1256, 0.10852255383031433), (1257, 0.0), (1258, 0.0), (1259, 0.11211176267735667), (1260, 0.0), (1261, 0.0), (1262, 0.04501755772859379), (1263, 0.0), (1264, 0.0), (1265, 0.0), (1266, 0.0), (1267, 0.7689437353078445), (1268, 0.0), (1269, 0.0), (1270, 0.0), (1271, 0.0), (1272, 0.0), (1273, 0.0), (1274, 0.0), (1275, 0.0), (1276, 0.0), (1277, 0.0), (1278, 0.10852255383031433), (1279, 0.7689437353078445), (1280, 0.2110822939919808), (1281, 0.0), (1282, 0.10852255383031433), (1283, 0.0), (1284, 0.08943326869062102), (1285, 0.11147275374792427), (1286, 0.0), (1287, 0.0), (1288, 0.0), (1289, 0.0), (1290, 0.7314009072745772), (1291, 0.0), (1292, 0.10852255383031433), (1293, 0.05655896446861264), (1294, 0.7314009072745772), (1295, 0.2110822939919808), (1296, 0.0), (1297, 0.0), (1298, 0.10852255383031433), (1299, 0.0)]\n"
          ]
        }
      ]
    },
    {
      "cell_type": "code",
      "metadata": {
        "colab": {
          "base_uri": "https://localhost:8080/"
        },
        "id": "mMrxw-leQNtP",
        "outputId": "03f53dd1-bce1-48c4-e825-13ecffb8da19"
      },
      "source": [
        "len(similarity_score)"
      ],
      "execution_count": 73,
      "outputs": [
        {
          "output_type": "execute_result",
          "data": {
            "text/plain": [
              "1300"
            ]
          },
          "metadata": {},
          "execution_count": 73
        }
      ]
    },
    {
      "cell_type": "code",
      "metadata": {
        "colab": {
          "base_uri": "https://localhost:8080/"
        },
        "id": "SkXgFLePQkHL",
        "outputId": "f198398a-143c-4031-ef80-51e2a1fbdbb1"
      },
      "source": [
        "# sorting the insights based on their similarity score\n",
        "\n",
        "sorted_similar = sorted(similarity_score, key = lambda x:x[1], reverse = True)\n",
        "print(sorted_similar)"
      ],
      "execution_count": 74,
      "outputs": [
        {
          "output_type": "stream",
          "name": "stdout",
          "text": [
            "[(18, 1.0000000000000002), (74, 1.0000000000000002), (107, 1.0000000000000002), (137, 1.0000000000000002), (163, 1.0000000000000002), (165, 1.0000000000000002), (315, 1.0000000000000002), (341, 1.0000000000000002), (350, 1.0000000000000002), (367, 1.0000000000000002), (443, 1.0000000000000002), (451, 1.0000000000000002), (464, 1.0000000000000002), (492, 1.0000000000000002), (494, 1.0000000000000002), (543, 1.0000000000000002), (590, 1.0000000000000002), (604, 1.0000000000000002), (676, 1.0000000000000002), (711, 1.0000000000000002), (723, 1.0000000000000002), (745, 1.0000000000000002), (942, 1.0000000000000002), (1001, 1.0000000000000002), (1079, 1.0000000000000002), (1108, 1.0000000000000002), (1115, 1.0000000000000002), (1185, 1.0000000000000002), (1210, 1.0000000000000002), (24, 0.7689437353078445), (64, 0.7689437353078445), (248, 0.7689437353078445), (249, 0.7689437353078445), (266, 0.7689437353078445), (327, 0.7689437353078445), (366, 0.7689437353078445), (378, 0.7689437353078445), (405, 0.7689437353078445), (421, 0.7689437353078445), (449, 0.7689437353078445), (551, 0.7689437353078445), (564, 0.7689437353078445), (566, 0.7689437353078445), (567, 0.7689437353078445), (574, 0.7689437353078445), (592, 0.7689437353078445), (624, 0.7689437353078445), (625, 0.7689437353078445), (636, 0.7689437353078445), (647, 0.7689437353078445), (653, 0.7689437353078445), (688, 0.7689437353078445), (714, 0.7689437353078445), (741, 0.7689437353078445), (752, 0.7689437353078445), (773, 0.7689437353078445), (805, 0.7689437353078445), (828, 0.7689437353078445), (894, 0.7689437353078445), (918, 0.7689437353078445), (931, 0.7689437353078445), (978, 0.7689437353078445), (1036, 0.7689437353078445), (1112, 0.7689437353078445), (1267, 0.7689437353078445), (1279, 0.7689437353078445), (79, 0.7314009072745772), (118, 0.7314009072745772), (123, 0.7314009072745772), (150, 0.7314009072745772), (176, 0.7314009072745772), (183, 0.7314009072745772), (195, 0.7314009072745772), (224, 0.7314009072745772), (239, 0.7314009072745772), (250, 0.7314009072745772), (263, 0.7314009072745772), (285, 0.7314009072745772), (331, 0.7314009072745772), (359, 0.7314009072745772), (384, 0.7314009072745772), (477, 0.7314009072745772), (482, 0.7314009072745772), (589, 0.7314009072745772), (628, 0.7314009072745772), (645, 0.7314009072745772), (659, 0.7314009072745772), (685, 0.7314009072745772), (695, 0.7314009072745772), (774, 0.7314009072745772), (817, 0.7314009072745772), (852, 0.7314009072745772), (877, 0.7314009072745772), (880, 0.7314009072745772), (890, 0.7314009072745772), (891, 0.7314009072745772), (933, 0.7314009072745772), (935, 0.7314009072745772), (964, 0.7314009072745772), (1053, 0.7314009072745772), (1093, 0.7314009072745772), (1123, 0.7314009072745772), (1172, 0.7314009072745772), (1192, 0.7314009072745772), (1195, 0.7314009072745772), (1255, 0.7314009072745772), (1290, 0.7314009072745772), (1294, 0.7314009072745772), (8, 0.5900031538450032), (9, 0.5900031538450032), (39, 0.5900031538450032), (62, 0.5900031538450032), (71, 0.5900031538450032), (90, 0.5900031538450032), (95, 0.5900031538450032), (103, 0.5900031538450032), (109, 0.5900031538450032), (162, 0.5900031538450032), (228, 0.5900031538450032), (238, 0.5900031538450032), (267, 0.5900031538450032), (273, 0.5900031538450032), (274, 0.5900031538450032), (277, 0.5900031538450032), (291, 0.5900031538450032), (300, 0.5900031538450032), (308, 0.5900031538450032), (314, 0.5900031538450032), (344, 0.5900031538450032), (353, 0.5900031538450032), (410, 0.5900031538450032), (411, 0.5900031538450032), (418, 0.5900031538450032), (450, 0.5900031538450032), (458, 0.5900031538450032), (474, 0.5900031538450032), (539, 0.5900031538450032), (575, 0.5900031538450032), (706, 0.5900031538450032), (708, 0.5900031538450032), (737, 0.5900031538450032), (744, 0.5900031538450032), (801, 0.5900031538450032), (866, 0.5900031538450032), (867, 0.5900031538450032), (871, 0.5900031538450032), (874, 0.5900031538450032), (883, 0.5900031538450032), (908, 0.5900031538450032), (951, 0.5900031538450032), (965, 0.5900031538450032), (969, 0.5900031538450032), (987, 0.5900031538450032), (1027, 0.5900031538450032), (1129, 0.5900031538450032), (1202, 0.5900031538450032), (1207, 0.5900031538450032), (15, 0.2110822939919808), (38, 0.2110822939919808), (53, 0.2110822939919808), (65, 0.2110822939919808), (145, 0.2110822939919808), (147, 0.2110822939919808), (170, 0.2110822939919808), (203, 0.2110822939919808), (220, 0.2110822939919808), (275, 0.2110822939919808), (293, 0.2110822939919808), (298, 0.2110822939919808), (303, 0.2110822939919808), (305, 0.2110822939919808), (362, 0.2110822939919808), (416, 0.2110822939919808), (422, 0.2110822939919808), (540, 0.2110822939919808), (596, 0.2110822939919808), (610, 0.2110822939919808), (710, 0.2110822939919808), (718, 0.2110822939919808), (763, 0.2110822939919808), (798, 0.2110822939919808), (851, 0.2110822939919808), (888, 0.2110822939919808), (915, 0.2110822939919808), (923, 0.2110822939919808), (934, 0.2110822939919808), (952, 0.2110822939919808), (968, 0.2110822939919808), (1030, 0.2110822939919808), (1044, 0.2110822939919808), (1061, 0.2110822939919808), (1069, 0.2110822939919808), (1091, 0.2110822939919808), (1131, 0.2110822939919808), (1232, 0.2110822939919808), (1280, 0.2110822939919808), (1295, 0.2110822939919808), (12, 0.20752100110292374), (16, 0.20752100110292374), (36, 0.20752100110292374), (40, 0.20752100110292374), (49, 0.20752100110292374), (55, 0.20752100110292374), (78, 0.20752100110292374), (99, 0.20752100110292374), (113, 0.20752100110292374), (120, 0.20752100110292374), (160, 0.20752100110292374), (167, 0.20752100110292374), (190, 0.20752100110292374), (207, 0.20752100110292374), (217, 0.20752100110292374), (222, 0.20752100110292374), (229, 0.20752100110292374), (271, 0.20752100110292374), (433, 0.20752100110292374), (456, 0.20752100110292374), (523, 0.20752100110292374), (586, 0.20752100110292374), (692, 0.20752100110292374), (696, 0.20752100110292374), (719, 0.20752100110292374), (765, 0.20752100110292374), (810, 0.20752100110292374), (822, 0.20752100110292374), (864, 0.20752100110292374), (984, 0.20752100110292374), (993, 0.20752100110292374), (1022, 0.20752100110292374), (1031, 0.20752100110292374), (1074, 0.20752100110292374), (1135, 0.20752100110292374), (1150, 0.20752100110292374), (1152, 0.20752100110292374), (1211, 0.20752100110292374), (1226, 0.20752100110292374), (1244, 0.20752100110292374), (1246, 0.20752100110292374), (1250, 0.20752100110292374), (34, 0.18923240792459853), (81, 0.18923240792459853), (87, 0.18923240792459853), (135, 0.18923240792459853), (138, 0.18923240792459853), (171, 0.18923240792459853), (184, 0.18923240792459853), (185, 0.18923240792459853), (194, 0.18923240792459853), (226, 0.18923240792459853), (272, 0.18923240792459853), (352, 0.18923240792459853), (357, 0.18923240792459853), (380, 0.18923240792459853), (381, 0.18923240792459853), (385, 0.18923240792459853), (440, 0.18923240792459853), (448, 0.18923240792459853), (594, 0.18923240792459853), (619, 0.18923240792459853), (638, 0.18923240792459853), (662, 0.18923240792459853), (663, 0.18923240792459853), (725, 0.18923240792459853), (762, 0.18923240792459853), (776, 0.18923240792459853), (827, 0.18923240792459853), (860, 0.18923240792459853), (902, 0.18923240792459853), (977, 0.18923240792459853), (1010, 0.18923240792459853), (1133, 0.18923240792459853), (10, 0.11211176267735667), (25, 0.11211176267735667), (76, 0.11211176267735667), (233, 0.11211176267735667), (260, 0.11211176267735667), (281, 0.11211176267735667), (316, 0.11211176267735667), (376, 0.11211176267735667), (460, 0.11211176267735667), (512, 0.11211176267735667), (530, 0.11211176267735667), (547, 0.11211176267735667), (580, 0.11211176267735667), (585, 0.11211176267735667), (591, 0.11211176267735667), (593, 0.11211176267735667), (605, 0.11211176267735667), (665, 0.11211176267735667), (684, 0.11211176267735667), (712, 0.11211176267735667), (736, 0.11211176267735667), (787, 0.11211176267735667), (834, 0.11211176267735667), (932, 0.11211176267735667), (1039, 0.11211176267735667), (1062, 0.11211176267735667), (1137, 0.11211176267735667), (1170, 0.11211176267735667), (1205, 0.11211176267735667), (1231, 0.11211176267735667), (1234, 0.11211176267735667), (1238, 0.11211176267735667), (1259, 0.11211176267735667), (20, 0.11147275374792427), (29, 0.11147275374792427), (60, 0.11147275374792427), (119, 0.11147275374792427), (139, 0.11147275374792427), (141, 0.11147275374792427), (188, 0.11147275374792427), (214, 0.11147275374792427), (251, 0.11147275374792427), (252, 0.11147275374792427), (346, 0.11147275374792427), (371, 0.11147275374792427), (396, 0.11147275374792427), (406, 0.11147275374792427), (425, 0.11147275374792427), (431, 0.11147275374792427), (445, 0.11147275374792427), (473, 0.11147275374792427), (490, 0.11147275374792427), (499, 0.11147275374792427), (552, 0.11147275374792427), (606, 0.11147275374792427), (646, 0.11147275374792427), (721, 0.11147275374792427), (746, 0.11147275374792427), (764, 0.11147275374792427), (795, 0.11147275374792427), (814, 0.11147275374792427), (816, 0.11147275374792427), (873, 0.11147275374792427), (903, 0.11147275374792427), (912, 0.11147275374792427), (921, 0.11147275374792427), (948, 0.11147275374792427), (967, 0.11147275374792427), (1028, 0.11147275374792427), (1043, 0.11147275374792427), (1168, 0.11147275374792427), (1175, 0.11147275374792427), (1216, 0.11147275374792427), (1249, 0.11147275374792427), (1285, 0.11147275374792427), (17, 0.1094995404906161), (37, 0.1094995404906161), (164, 0.1094995404906161), (177, 0.1094995404906161), (192, 0.1094995404906161), (205, 0.1094995404906161), (257, 0.1094995404906161), (282, 0.1094995404906161), (340, 0.1094995404906161), (361, 0.1094995404906161), (363, 0.1094995404906161), (374, 0.1094995404906161), (402, 0.1094995404906161), (457, 0.1094995404906161), (505, 0.1094995404906161), (541, 0.1094995404906161), (563, 0.1094995404906161), (577, 0.1094995404906161), (600, 0.1094995404906161), (615, 0.1094995404906161), (654, 0.1094995404906161), (656, 0.1094995404906161), (702, 0.1094995404906161), (707, 0.1094995404906161), (743, 0.1094995404906161), (829, 0.1094995404906161), (836, 0.1094995404906161), (843, 0.1094995404906161), (904, 0.1094995404906161), (937, 0.1094995404906161), (941, 0.1094995404906161), (972, 0.1094995404906161), (974, 0.1094995404906161), (980, 0.1094995404906161), (990, 0.1094995404906161), (995, 0.1094995404906161), (1077, 0.1094995404906161), (1100, 0.1094995404906161), (1117, 0.1094995404906161), (1136, 0.1094995404906161), (1156, 0.1094995404906161), (1186, 0.1094995404906161), (26, 0.10852255383031433), (42, 0.10852255383031433), (68, 0.10852255383031433), (92, 0.10852255383031433), (100, 0.10852255383031433), (156, 0.10852255383031433), (180, 0.10852255383031433), (189, 0.10852255383031433), (197, 0.10852255383031433), (209, 0.10852255383031433), (211, 0.10852255383031433), (213, 0.10852255383031433), (247, 0.10852255383031433), (256, 0.10852255383031433), (343, 0.10852255383031433), (358, 0.10852255383031433), (395, 0.10852255383031433), (399, 0.10852255383031433), (442, 0.10852255383031433), (478, 0.10852255383031433), (479, 0.10852255383031433), (489, 0.10852255383031433), (491, 0.10852255383031433), (519, 0.10852255383031433), (529, 0.10852255383031433), (558, 0.10852255383031433), (616, 0.10852255383031433), (642, 0.10852255383031433), (673, 0.10852255383031433), (769, 0.10852255383031433), (794, 0.10852255383031433), (803, 0.10852255383031433), (824, 0.10852255383031433), (960, 0.10852255383031433), (966, 0.10852255383031433), (1009, 0.10852255383031433), (1051, 0.10852255383031433), (1064, 0.10852255383031433), (1103, 0.10852255383031433), (1130, 0.10852255383031433), (1176, 0.10852255383031433), (1189, 0.10852255383031433), (1191, 0.10852255383031433), (1229, 0.10852255383031433), (1245, 0.10852255383031433), (1256, 0.10852255383031433), (1278, 0.10852255383031433), (1282, 0.10852255383031433), (1292, 0.10852255383031433), (1298, 0.10852255383031433), (28, 0.10729505874069185), (44, 0.10729505874069185), (48, 0.10729505874069185), (72, 0.10729505874069185), (94, 0.10729505874069185), (140, 0.10729505874069185), (227, 0.10729505874069185), (253, 0.10729505874069185), (276, 0.10729505874069185), (321, 0.10729505874069185), (342, 0.10729505874069185), (409, 0.10729505874069185), (423, 0.10729505874069185), (428, 0.10729505874069185), (432, 0.10729505874069185), (435, 0.10729505874069185), (485, 0.10729505874069185), (487, 0.10729505874069185), (502, 0.10729505874069185), (553, 0.10729505874069185), (687, 0.10729505874069185), (715, 0.10729505874069185), (739, 0.10729505874069185), (837, 0.10729505874069185), (853, 0.10729505874069185), (857, 0.10729505874069185), (858, 0.10729505874069185), (865, 0.10729505874069185), (869, 0.10729505874069185), (885, 0.10729505874069185), (911, 0.10729505874069185), (944, 0.10729505874069185), (988, 0.10729505874069185), (999, 0.10729505874069185), (1153, 0.10729505874069185), (1204, 0.10729505874069185), (1215, 0.10729505874069185), (7, 0.08943326869062102), (43, 0.08943326869062102), (51, 0.08943326869062102), (77, 0.08943326869062102), (102, 0.08943326869062102), (124, 0.08943326869062102), (201, 0.08943326869062102), (246, 0.08943326869062102), (265, 0.08943326869062102), (390, 0.08943326869062102), (404, 0.08943326869062102), (439, 0.08943326869062102), (444, 0.08943326869062102), (514, 0.08943326869062102), (528, 0.08943326869062102), (534, 0.08943326869062102), (535, 0.08943326869062102), (582, 0.08943326869062102), (608, 0.08943326869062102), (635, 0.08943326869062102), (664, 0.08943326869062102), (668, 0.08943326869062102), (740, 0.08943326869062102), (754, 0.08943326869062102), (800, 0.08943326869062102), (813, 0.08943326869062102), (859, 0.08943326869062102), (861, 0.08943326869062102), (917, 0.08943326869062102), (919, 0.08943326869062102), (926, 0.08943326869062102), (958, 0.08943326869062102), (1005, 0.08943326869062102), (1042, 0.08943326869062102), (1090, 0.08943326869062102), (1111, 0.08943326869062102), (1154, 0.08943326869062102), (1284, 0.08943326869062102), (1057, 0.05655896446861264), (1058, 0.05655896446861264), (1105, 0.05655896446861264), (1144, 0.05655896446861264), (1163, 0.05655896446861264), (1235, 0.05655896446861264), (1293, 0.05655896446861264), (1015, 0.04501755772859379), (1034, 0.04501755772859379), (1095, 0.04501755772859379), (1262, 0.04501755772859379), (0, 0.0), (1, 0.0), (2, 0.0), (3, 0.0), (4, 0.0), (5, 0.0), (6, 0.0), (11, 0.0), (13, 0.0), (14, 0.0), (19, 0.0), (21, 0.0), (22, 0.0), (23, 0.0), (27, 0.0), (30, 0.0), (31, 0.0), (32, 0.0), (33, 0.0), (35, 0.0), (41, 0.0), (45, 0.0), (46, 0.0), (47, 0.0), (50, 0.0), (52, 0.0), (54, 0.0), (56, 0.0), (57, 0.0), (58, 0.0), (59, 0.0), (61, 0.0), (63, 0.0), (66, 0.0), (67, 0.0), (69, 0.0), (70, 0.0), (73, 0.0), (75, 0.0), (80, 0.0), (82, 0.0), (83, 0.0), (84, 0.0), (85, 0.0), (86, 0.0), (88, 0.0), (89, 0.0), (91, 0.0), (93, 0.0), (96, 0.0), (97, 0.0), (98, 0.0), (101, 0.0), (104, 0.0), (105, 0.0), (106, 0.0), (108, 0.0), (110, 0.0), (111, 0.0), (112, 0.0), (114, 0.0), (115, 0.0), (116, 0.0), (117, 0.0), (121, 0.0), (122, 0.0), (125, 0.0), (126, 0.0), (127, 0.0), (128, 0.0), (129, 0.0), (130, 0.0), (131, 0.0), (132, 0.0), (133, 0.0), (134, 0.0), (136, 0.0), (142, 0.0), (143, 0.0), (144, 0.0), (146, 0.0), (148, 0.0), (149, 0.0), (151, 0.0), (152, 0.0), (153, 0.0), (154, 0.0), (155, 0.0), (157, 0.0), (158, 0.0), (159, 0.0), (161, 0.0), (166, 0.0), (168, 0.0), (169, 0.0), (172, 0.0), (173, 0.0), (174, 0.0), (175, 0.0), (178, 0.0), (179, 0.0), (181, 0.0), (182, 0.0), (186, 0.0), (187, 0.0), (191, 0.0), (193, 0.0), (196, 0.0), (198, 0.0), (199, 0.0), (200, 0.0), (202, 0.0), (204, 0.0), (206, 0.0), (208, 0.0), (210, 0.0), (212, 0.0), (215, 0.0), (216, 0.0), (218, 0.0), (219, 0.0), (221, 0.0), (223, 0.0), (225, 0.0), (230, 0.0), (231, 0.0), (232, 0.0), (234, 0.0), (235, 0.0), (236, 0.0), (237, 0.0), (240, 0.0), (241, 0.0), (242, 0.0), (243, 0.0), (244, 0.0), (245, 0.0), (254, 0.0), (255, 0.0), (258, 0.0), (259, 0.0), (261, 0.0), (262, 0.0), (264, 0.0), (268, 0.0), (269, 0.0), (270, 0.0), (278, 0.0), (279, 0.0), (280, 0.0), (283, 0.0), (284, 0.0), (286, 0.0), (287, 0.0), (288, 0.0), (289, 0.0), (290, 0.0), (292, 0.0), (294, 0.0), (295, 0.0), (296, 0.0), (297, 0.0), (299, 0.0), (301, 0.0), (302, 0.0), (304, 0.0), (306, 0.0), (307, 0.0), (309, 0.0), (310, 0.0), (311, 0.0), (312, 0.0), (313, 0.0), (317, 0.0), (318, 0.0), (319, 0.0), (320, 0.0), (322, 0.0), (323, 0.0), (324, 0.0), (325, 0.0), (326, 0.0), (328, 0.0), (329, 0.0), (330, 0.0), (332, 0.0), (333, 0.0), (334, 0.0), (335, 0.0), (336, 0.0), (337, 0.0), (338, 0.0), (339, 0.0), (345, 0.0), (347, 0.0), (348, 0.0), (349, 0.0), (351, 0.0), (354, 0.0), (355, 0.0), (356, 0.0), (360, 0.0), (364, 0.0), (365, 0.0), (368, 0.0), (369, 0.0), (370, 0.0), (372, 0.0), (373, 0.0), (375, 0.0), (377, 0.0), (379, 0.0), (382, 0.0), (383, 0.0), (386, 0.0), (387, 0.0), (388, 0.0), (389, 0.0), (391, 0.0), (392, 0.0), (393, 0.0), (394, 0.0), (397, 0.0), (398, 0.0), (400, 0.0), (401, 0.0), (403, 0.0), (407, 0.0), (408, 0.0), (412, 0.0), (413, 0.0), (414, 0.0), (415, 0.0), (417, 0.0), (419, 0.0), (420, 0.0), (424, 0.0), (426, 0.0), (427, 0.0), (429, 0.0), (430, 0.0), (434, 0.0), (436, 0.0), (437, 0.0), (438, 0.0), (441, 0.0), (446, 0.0), (447, 0.0), (452, 0.0), (453, 0.0), (454, 0.0), (455, 0.0), (459, 0.0), (461, 0.0), (462, 0.0), (463, 0.0), (465, 0.0), (466, 0.0), (467, 0.0), (468, 0.0), (469, 0.0), (470, 0.0), (471, 0.0), (472, 0.0), (475, 0.0), (476, 0.0), (480, 0.0), (481, 0.0), (483, 0.0), (484, 0.0), (486, 0.0), (488, 0.0), (493, 0.0), (495, 0.0), (496, 0.0), (497, 0.0), (498, 0.0), (500, 0.0), (501, 0.0), (503, 0.0), (504, 0.0), (506, 0.0), (507, 0.0), (508, 0.0), (509, 0.0), (510, 0.0), (511, 0.0), (513, 0.0), (515, 0.0), (516, 0.0), (517, 0.0), (518, 0.0), (520, 0.0), (521, 0.0), (522, 0.0), (524, 0.0), (525, 0.0), (526, 0.0), (527, 0.0), (531, 0.0), (532, 0.0), (533, 0.0), (536, 0.0), (537, 0.0), (538, 0.0), (542, 0.0), (544, 0.0), (545, 0.0), (546, 0.0), (548, 0.0), (549, 0.0), (550, 0.0), (554, 0.0), (555, 0.0), (556, 0.0), (557, 0.0), (559, 0.0), (560, 0.0), (561, 0.0), (562, 0.0), (565, 0.0), (568, 0.0), (569, 0.0), (570, 0.0), (571, 0.0), (572, 0.0), (573, 0.0), (576, 0.0), (578, 0.0), (579, 0.0), (581, 0.0), (583, 0.0), (584, 0.0), (587, 0.0), (588, 0.0), (595, 0.0), (597, 0.0), (598, 0.0), (599, 0.0), (601, 0.0), (602, 0.0), (603, 0.0), (607, 0.0), (609, 0.0), (611, 0.0), (612, 0.0), (613, 0.0), (614, 0.0), (617, 0.0), (618, 0.0), (620, 0.0), (621, 0.0), (622, 0.0), (623, 0.0), (626, 0.0), (627, 0.0), (629, 0.0), (630, 0.0), (631, 0.0), (632, 0.0), (633, 0.0), (634, 0.0), (637, 0.0), (639, 0.0), (640, 0.0), (641, 0.0), (643, 0.0), (644, 0.0), (648, 0.0), (649, 0.0), (650, 0.0), (651, 0.0), (652, 0.0), (655, 0.0), (657, 0.0), (658, 0.0), (660, 0.0), (661, 0.0), (666, 0.0), (667, 0.0), (669, 0.0), (670, 0.0), (671, 0.0), (672, 0.0), (674, 0.0), (675, 0.0), (677, 0.0), (678, 0.0), (679, 0.0), (680, 0.0), (681, 0.0), (682, 0.0), (683, 0.0), (686, 0.0), (689, 0.0), (690, 0.0), (691, 0.0), (693, 0.0), (694, 0.0), (697, 0.0), (698, 0.0), (699, 0.0), (700, 0.0), (701, 0.0), (703, 0.0), (704, 0.0), (705, 0.0), (709, 0.0), (713, 0.0), (716, 0.0), (717, 0.0), (720, 0.0), (722, 0.0), (724, 0.0), (726, 0.0), (727, 0.0), (728, 0.0), (729, 0.0), (730, 0.0), (731, 0.0), (732, 0.0), (733, 0.0), (734, 0.0), (735, 0.0), (738, 0.0), (742, 0.0), (747, 0.0), (748, 0.0), (749, 0.0), (750, 0.0), (751, 0.0), (753, 0.0), (755, 0.0), (756, 0.0), (757, 0.0), (758, 0.0), (759, 0.0), (760, 0.0), (761, 0.0), (766, 0.0), (767, 0.0), (768, 0.0), (770, 0.0), (771, 0.0), (772, 0.0), (775, 0.0), (777, 0.0), (778, 0.0), (779, 0.0), (780, 0.0), (781, 0.0), (782, 0.0), (783, 0.0), (784, 0.0), (785, 0.0), (786, 0.0), (788, 0.0), (789, 0.0), (790, 0.0), (791, 0.0), (792, 0.0), (793, 0.0), (796, 0.0), (797, 0.0), (799, 0.0), (802, 0.0), (804, 0.0), (806, 0.0), (807, 0.0), (808, 0.0), (809, 0.0), (811, 0.0), (812, 0.0), (815, 0.0), (818, 0.0), (819, 0.0), (820, 0.0), (821, 0.0), (823, 0.0), (825, 0.0), (826, 0.0), (830, 0.0), (831, 0.0), (832, 0.0), (833, 0.0), (835, 0.0), (838, 0.0), (839, 0.0), (840, 0.0), (841, 0.0), (842, 0.0), (844, 0.0), (845, 0.0), (846, 0.0), (847, 0.0), (848, 0.0), (849, 0.0), (850, 0.0), (854, 0.0), (855, 0.0), (856, 0.0), (862, 0.0), (863, 0.0), (868, 0.0), (870, 0.0), (872, 0.0), (875, 0.0), (876, 0.0), (878, 0.0), (879, 0.0), (881, 0.0), (882, 0.0), (884, 0.0), (886, 0.0), (887, 0.0), (889, 0.0), (892, 0.0), (893, 0.0), (895, 0.0), (896, 0.0), (897, 0.0), (898, 0.0), (899, 0.0), (900, 0.0), (901, 0.0), (905, 0.0), (906, 0.0), (907, 0.0), (909, 0.0), (910, 0.0), (913, 0.0), (914, 0.0), (916, 0.0), (920, 0.0), (922, 0.0), (924, 0.0), (925, 0.0), (927, 0.0), (928, 0.0), (929, 0.0), (930, 0.0), (936, 0.0), (938, 0.0), (939, 0.0), (940, 0.0), (943, 0.0), (945, 0.0), (946, 0.0), (947, 0.0), (949, 0.0), (950, 0.0), (953, 0.0), (954, 0.0), (955, 0.0), (956, 0.0), (957, 0.0), (959, 0.0), (961, 0.0), (962, 0.0), (963, 0.0), (970, 0.0), (971, 0.0), (973, 0.0), (975, 0.0), (976, 0.0), (979, 0.0), (981, 0.0), (982, 0.0), (983, 0.0), (985, 0.0), (986, 0.0), (989, 0.0), (991, 0.0), (992, 0.0), (994, 0.0), (996, 0.0), (997, 0.0), (998, 0.0), (1000, 0.0), (1002, 0.0), (1003, 0.0), (1004, 0.0), (1006, 0.0), (1007, 0.0), (1008, 0.0), (1011, 0.0), (1012, 0.0), (1013, 0.0), (1014, 0.0), (1016, 0.0), (1017, 0.0), (1018, 0.0), (1019, 0.0), (1020, 0.0), (1021, 0.0), (1023, 0.0), (1024, 0.0), (1025, 0.0), (1026, 0.0), (1029, 0.0), (1032, 0.0), (1033, 0.0), (1035, 0.0), (1037, 0.0), (1038, 0.0), (1040, 0.0), (1041, 0.0), (1045, 0.0), (1046, 0.0), (1047, 0.0), (1048, 0.0), (1049, 0.0), (1050, 0.0), (1052, 0.0), (1054, 0.0), (1055, 0.0), (1056, 0.0), (1059, 0.0), (1060, 0.0), (1063, 0.0), (1065, 0.0), (1066, 0.0), (1067, 0.0), (1068, 0.0), (1070, 0.0), (1071, 0.0), (1072, 0.0), (1073, 0.0), (1075, 0.0), (1076, 0.0), (1078, 0.0), (1080, 0.0), (1081, 0.0), (1082, 0.0), (1083, 0.0), (1084, 0.0), (1085, 0.0), (1086, 0.0), (1087, 0.0), (1088, 0.0), (1089, 0.0), (1092, 0.0), (1094, 0.0), (1096, 0.0), (1097, 0.0), (1098, 0.0), (1099, 0.0), (1101, 0.0), (1102, 0.0), (1104, 0.0), (1106, 0.0), (1107, 0.0), (1109, 0.0), (1110, 0.0), (1113, 0.0), (1114, 0.0), (1116, 0.0), (1118, 0.0), (1119, 0.0), (1120, 0.0), (1121, 0.0), (1122, 0.0), (1124, 0.0), (1125, 0.0), (1126, 0.0), (1127, 0.0), (1128, 0.0), (1132, 0.0), (1134, 0.0), (1138, 0.0), (1139, 0.0), (1140, 0.0), (1141, 0.0), (1142, 0.0), (1143, 0.0), (1145, 0.0), (1146, 0.0), (1147, 0.0), (1148, 0.0), (1149, 0.0), (1151, 0.0), (1155, 0.0), (1157, 0.0), (1158, 0.0), (1159, 0.0), (1160, 0.0), (1161, 0.0), (1162, 0.0), (1164, 0.0), (1165, 0.0), (1166, 0.0), (1167, 0.0), (1169, 0.0), (1171, 0.0), (1173, 0.0), (1174, 0.0), (1177, 0.0), (1178, 0.0), (1179, 0.0), (1180, 0.0), (1181, 0.0), (1182, 0.0), (1183, 0.0), (1184, 0.0), (1187, 0.0), (1188, 0.0), (1190, 0.0), (1193, 0.0), (1194, 0.0), (1196, 0.0), (1197, 0.0), (1198, 0.0), (1199, 0.0), (1200, 0.0), (1201, 0.0), (1203, 0.0), (1206, 0.0), (1208, 0.0), (1209, 0.0), (1212, 0.0), (1213, 0.0), (1214, 0.0), (1217, 0.0), (1218, 0.0), (1219, 0.0), (1220, 0.0), (1221, 0.0), (1222, 0.0), (1223, 0.0), (1224, 0.0), (1225, 0.0), (1227, 0.0), (1228, 0.0), (1230, 0.0), (1233, 0.0), (1236, 0.0), (1237, 0.0), (1239, 0.0), (1240, 0.0), (1241, 0.0), (1242, 0.0), (1243, 0.0), (1247, 0.0), (1248, 0.0), (1251, 0.0), (1252, 0.0), (1253, 0.0), (1254, 0.0), (1257, 0.0), (1258, 0.0), (1260, 0.0), (1261, 0.0), (1263, 0.0), (1264, 0.0), (1265, 0.0), (1266, 0.0), (1268, 0.0), (1269, 0.0), (1270, 0.0), (1271, 0.0), (1272, 0.0), (1273, 0.0), (1274, 0.0), (1275, 0.0), (1276, 0.0), (1277, 0.0), (1281, 0.0), (1283, 0.0), (1286, 0.0), (1287, 0.0), (1288, 0.0), (1289, 0.0), (1291, 0.0), (1296, 0.0), (1297, 0.0), (1299, 0.0)]\n"
          ]
        }
      ]
    },
    {
      "cell_type": "code",
      "metadata": {
        "colab": {
          "base_uri": "https://localhost:8080/"
        },
        "id": "JseMqew-RW6Q",
        "outputId": "8f079a8f-e09a-400e-908a-4cf0adf77dea"
      },
      "source": [
        "# print the name of similar insights based on the index\n",
        "\n",
        "print('Roles suggested for you : \\n')\n",
        "\n",
        "i = 1\n",
        "for insight in sorted_similar:\n",
        "  index = insight[0]\n",
        "  title_from_index = data[data.index==index]['Insight 1']\n",
        "  if (i<5):\n",
        "    print(i, '.',title_from_index)\n",
        "    i+=1"
      ],
      "execution_count": 75,
      "outputs": [
        {
          "output_type": "stream",
          "name": "stdout",
          "text": [
            "Roles suggested for you : \n",
            "\n",
            "1 . 18    Leases\n",
            "Name: Insight 1, dtype: object\n",
            "2 . 74    Leases\n",
            "Name: Insight 1, dtype: object\n",
            "3 . 107    Leases\n",
            "Name: Insight 1, dtype: object\n",
            "4 . 137    Leases\n",
            "Name: Insight 1, dtype: object\n"
          ]
        }
      ]
    },
    {
      "cell_type": "markdown",
      "metadata": {
        "id": "KmXULXO9TZun"
      },
      "source": [
        "Recommendation Sytem"
      ]
    },
    {
      "cell_type": "code",
      "metadata": {
        "colab": {
          "base_uri": "https://localhost:8080/"
        },
        "id": "QUDZfTSxTHDf",
        "outputId": "00e21a29-b5ba-4ee7-adf6-d29ab6c76a0f"
      },
      "source": [
        "name = input(' Enter your Role : ')\n",
        "\n",
        "list_of_all_titles = data['Roles'].tolist()\n",
        "\n",
        "cleanedList = [x for x in list_of_all_titles if str(x) != 'nan']\n",
        "\n",
        "find_close_match = difflib.get_close_matches(name, cleanedList)\n",
        "\n",
        "close_match = find_close_match[0]\n",
        "\n",
        "index_of_the_m = data[data.Roles == close_match]['Index'].values[0]\n",
        "\n",
        "similarity_score = list(enumerate(similarity[index_of_the_m]))\n",
        "\n",
        "sorted_similar_m = sorted(similarity_score, key = lambda x:x[1], reverse = True)\n",
        "\n",
        "print('Roles suggested for you : \\n')\n",
        "\n",
        "i = 1\n",
        "\n",
        "for insight in sorted_similar_m:\n",
        "  index = insight[0]\n",
        "  title_from_index = data[data.index==index]['Insight 2'].values[0]\n",
        "  if (i<30):\n",
        "    print(i, '.',title_from_index)\n",
        "    i+=1"
      ],
      "execution_count": 77,
      "outputs": [
        {
          "output_type": "stream",
          "name": "stdout",
          "text": [
            " Enter your Role : Technician\n",
            "Roles suggested for you : \n",
            "\n",
            "1 . Renewal Rate\n",
            "2 . Renewal Rate\n",
            "3 . Renewal Rate\n",
            "4 . Renewal Rate\n",
            "5 . Renewal Rate\n",
            "6 . Renewal Rate\n",
            "7 . Renewal Rate\n",
            "8 . Renewal Rate\n",
            "9 . Renewal Rate\n",
            "10 . Renewal Rate\n",
            "11 . Renewal Rate\n",
            "12 . Renewal Rate\n",
            "13 . Renewal Rate\n",
            "14 . Renewal Rate\n",
            "15 . Renewal Rate\n",
            "16 . Renewal Rate\n",
            "17 . Renewal Rate\n",
            "18 . Renewal Rate\n",
            "19 . Renewal Rate\n",
            "20 . Renewal Rate\n",
            "21 . Renewal Rate\n",
            "22 . Renewal Rate\n",
            "23 . Renewal Rate\n",
            "24 . Renewal Rate\n",
            "25 . Renewal Rate\n",
            "26 . Renewal Rate\n",
            "27 . Renewal Rate\n",
            "28 . Renewal Rate\n",
            "29 . Renewal Rate\n"
          ]
        }
      ]
    }
  ]
}